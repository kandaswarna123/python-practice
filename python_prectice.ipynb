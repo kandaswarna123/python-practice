{
  "nbformat": 4,
  "nbformat_minor": 0,
  "metadata": {
    "colab": {
      "provenance": [],
      "authorship_tag": "ABX9TyPiVMCxTD7ohMIyScv2+mA9",
      "include_colab_link": true
    },
    "kernelspec": {
      "name": "python3",
      "display_name": "Python 3"
    },
    "language_info": {
      "name": "python"
    }
  },
  "cells": [
    {
      "cell_type": "markdown",
      "metadata": {
        "id": "view-in-github",
        "colab_type": "text"
      },
      "source": [
        "<a href=\"https://colab.research.google.com/github/kandaswarna123/python-practice/blob/main/python_prectice.ipynb\" target=\"_parent\"><img src=\"https://colab.research.google.com/assets/colab-badge.svg\" alt=\"Open In Colab\"/></a>"
      ]
    },
    {
      "cell_type": "code",
      "execution_count": null,
      "metadata": {
        "colab": {
          "base_uri": "https://localhost:8080/"
        },
        "id": "s1dEkUuQxK7x",
        "outputId": "6e392847-9d79-40cc-d81f-d83ad5fc382e"
      },
      "outputs": [
        {
          "output_type": "stream",
          "name": "stdout",
          "text": [
            "enter a and b values:1 2\n",
            "add:3, sub:-1\n"
          ]
        }
      ],
      "source": [
        "a,b=input(\"enter a and b values:\").split(\" \")\n",
        "x=int(a)\n",
        "y=int(b)\n",
        "print(\"add:\",x+y,\", sub:\",x-y,sep=\"\")"
      ]
    },
    {
      "cell_type": "markdown",
      "source": [],
      "metadata": {
        "id": "siIOOux10zBF"
      }
    },
    {
      "cell_type": "code",
      "source": [
        "a=int(input())\n",
        "b=int(input())\n",
        "print(a,b,sep=\"_\")"
      ],
      "metadata": {
        "colab": {
          "base_uri": "https://localhost:8080/"
        },
        "id": "CX-wd_vCyzAp",
        "outputId": "7b460f82-75c0-4d5c-d96c-4adab543074f"
      },
      "execution_count": null,
      "outputs": [
        {
          "output_type": "stream",
          "name": "stdout",
          "text": [
            "5\n",
            "8\n",
            "5_8\n"
          ]
        }
      ]
    },
    {
      "cell_type": "code",
      "source": [
        "a=int(input())\n",
        "b=int(input())\n",
        "print(a,b,sep=\"-\",end=\" hello\")"
      ],
      "metadata": {
        "colab": {
          "base_uri": "https://localhost:8080/"
        },
        "id": "h3gyU0Ij0obV",
        "outputId": "089a73b9-8a11-4371-fecb-f061fc899ed6"
      },
      "execution_count": null,
      "outputs": [
        {
          "output_type": "stream",
          "name": "stdout",
          "text": [
            "2\n",
            "3\n",
            "2-3 hello"
          ]
        }
      ]
    },
    {
      "cell_type": "markdown",
      "source": [
        "\n",
        "sum of two numbers:"
      ],
      "metadata": {
        "id": "-vFX4ZJi6az0"
      }
    },
    {
      "cell_type": "code",
      "source": [
        "num1=int(input(\"num1 = \"))\n",
        "num2=int(input(\"num2 = \"))\n",
        "print(\"sum:\",num1+num2,sep=(\"\"))\n",
        "print(f\"sum:{num1+num2}\") #fstring"
      ],
      "metadata": {
        "colab": {
          "base_uri": "https://localhost:8080/"
        },
        "id": "UXnMYUjJ6eKE",
        "outputId": "0b1fecd8-503b-4c36-8cd5-b46ba8e1c768"
      },
      "execution_count": null,
      "outputs": [
        {
          "output_type": "stream",
          "name": "stdout",
          "text": [
            "num1 = 4\n",
            "num2 = 5\n",
            "sum:9\n",
            "sum:9\n"
          ]
        }
      ]
    },
    {
      "cell_type": "markdown",
      "source": [
        "qudratic eqn"
      ],
      "metadata": {
        "id": "FM-kHAkU_t0S"
      }
    },
    {
      "cell_type": "code",
      "source": [
        "a=int(input())\n",
        "b=int(input())\n",
        "c=int(input())\n",
        "root1=0\n",
        "root2=0\n",
        "d =(b**2)-4*a*c\n",
        "root1=(-b + (d**(0.5)))/2*a\n",
        "root2=(-b - (d**(0.5)))/2*a\n",
        "print(f\"Roots:({root1},{root2})\")"
      ],
      "metadata": {
        "colab": {
          "base_uri": "https://localhost:8080/"
        },
        "id": "ygh6NFSZ79NR",
        "outputId": "0078d1c0-abea-43e7-fab2-b276089781a4"
      },
      "execution_count": null,
      "outputs": [
        {
          "output_type": "stream",
          "name": "stdout",
          "text": [
            "1\n",
            "-3\n",
            "2\n",
            "Roots:(2.0,1.0)\n"
          ]
        }
      ]
    },
    {
      "cell_type": "code",
      "source": [
        "#swaping of two numbers with temporary variablr\n",
        "a=10\n",
        "b=20\n",
        "c=a\n",
        "a=b\n",
        "b=c\n",
        "print(a,b)\n"
      ],
      "metadata": {
        "colab": {
          "base_uri": "https://localhost:8080/"
        },
        "id": "tUL6dK3PPphL",
        "outputId": "09ad5549-b586-4a5f-a691-08cad6442308"
      },
      "execution_count": null,
      "outputs": [
        {
          "output_type": "stream",
          "name": "stdout",
          "text": [
            "20 10\n"
          ]
        }
      ]
    },
    {
      "cell_type": "code",
      "source": [
        "\n",
        "\n",
        "#swaping of two numbers without temporary variablr\n",
        "\n",
        "#b=10+20\n",
        "b=b+a #30\n",
        "#a=30-10\n",
        "a=b-a #20\n",
        "#b=30-20\n",
        "b=b-a #10\n",
        "print(a,b)"
      ],
      "metadata": {
        "colab": {
          "base_uri": "https://localhost:8080/"
        },
        "id": "BJru60MQTewQ",
        "outputId": "f90c041c-8dce-4232-f387-3bc7f4d6ba1d"
      },
      "execution_count": null,
      "outputs": [
        {
          "output_type": "stream",
          "name": "stdout",
          "text": [
            "20 10\n"
          ]
        }
      ]
    },
    {
      "cell_type": "code",
      "source": [
        "#converting temperature units\n",
        "\n",
        "c=30\n",
        "F = c *( 9 / 5) + 32 #(c=30)\n",
        "\n",
        "k=273+c\n",
        "\n",
        "print(F,k,sep=\",\")\n"
      ],
      "metadata": {
        "colab": {
          "base_uri": "https://localhost:8080/"
        },
        "id": "_mNbcKrNTvPW",
        "outputId": "c3ab2448-f2bc-45c2-b8ab-345d889b6f03"
      },
      "execution_count": null,
      "outputs": [
        {
          "output_type": "stream",
          "name": "stdout",
          "text": [
            "86.0,303\n"
          ]
        }
      ]
    },
    {
      "cell_type": "code",
      "source": [
        "#currency converter\n",
        "#1usd=0.85\n",
        "\n",
        "exchange_of_usd_to_eur=0.85\n",
        "amount_in_usd=100\n",
        "print(amount_in_usd*exchange_of_usd_to_eur)\n",
        "\n",
        "\n"
      ],
      "metadata": {
        "colab": {
          "base_uri": "https://localhost:8080/"
        },
        "id": "VTWteP1jT0pP",
        "outputId": "cc064c68-a4ba-4921-996f-bbcbab0671b0"
      },
      "execution_count": null,
      "outputs": [
        {
          "output_type": "stream",
          "name": "stdout",
          "text": [
            "85.0\n"
          ]
        }
      ]
    },
    {
      "cell_type": "code",
      "source": [
        "#calculater program\n",
        "\n",
        "num1=int(input(\"num1 = \"))\n",
        "num2=int(input(\"num2 = \"))\n",
        "operator=input(\"operator = \")\n",
        "if operator==\"+\":\n",
        "    print(f\"sum:{num1+num2}\")\n",
        "elif operator==\"-\":\n",
        "    print(f\"sub:{num1-num2}\")\n",
        "elif operator==\"*\":\n",
        "    print(f\"mul:{num1*num2}\")\n",
        "elif operator==\"/\":\n",
        "    print(f\"div:{num1/num2}\")\n",
        "else:\n",
        "    print(\"invalid operator\")"
      ],
      "metadata": {
        "colab": {
          "base_uri": "https://localhost:8080/"
        },
        "id": "5o63SP8htqWO",
        "outputId": "0283318c-a21b-420f-b259-f8d0f8698a1c"
      },
      "execution_count": null,
      "outputs": [
        {
          "output_type": "stream",
          "name": "stdout",
          "text": [
            "num1 = 2\n",
            "num2 = 3\n",
            "operator = +\n",
            "sum:5\n"
          ]
        }
      ]
    },
    {
      "cell_type": "code",
      "source": [
        "name=\"python\"\n",
        "print(name[0:6:2])\n",
        "print(name[1:-1])\n",
        "print(name[::-1])\n",
        "print(name[::-2])\n",
        "print(name[4::-1])\n",
        "print(name[0::3])\n",
        "print(name[1::2])\n",
        "print(name[:])\n",
        "print(name[1:3])\n"
      ],
      "metadata": {
        "colab": {
          "base_uri": "https://localhost:8080/"
        },
        "id": "LHKv05Rx2-cd",
        "outputId": "6064488d-54ab-448e-9e76-27de37c1505a"
      },
      "execution_count": null,
      "outputs": [
        {
          "output_type": "stream",
          "name": "stdout",
          "text": [
            "pto\n",
            "ytho\n",
            "nohtyp\n",
            "nhy\n",
            "ohtyp\n",
            "ph\n",
            "yhn\n",
            "python\n",
            "yt\n"
          ]
        }
      ]
    },
    {
      "cell_type": "code",
      "source": [
        "from os.path import split\n",
        "#string methods\n",
        "s=\"hello, world!\"\n",
        "N=\"HelLo, wOrlD!\"\n",
        "\n",
        "print(s.upper())\n",
        "print(s.lower())\n",
        "print(s.capitalize())\n",
        "print(s.title())\n",
        "print(N.swapcase())\n",
        "print(s.count(\"l\"))\n",
        "print(s.strip())\n",
        "print(s.replace(\"l\",\"m\"))\n",
        "print(s.lstrip())\n",
        "print(s.rstrip())\n",
        "print(s.startswith(\"hello\"))\n",
        "print(s.endswith(\"world!\"))\n",
        "print(s.find(\"w\"))#substring index\n",
        "print(s.rfind(\"l\"))#substring\n",
        "print(s.index(\"d\"))#substring\n",
        "print(s.rindex(\"w\"))#substring\n",
        "print(s.split(\"l\"))#separator\n",
        "print(s.split(\" \"))\n",
        "print(s.join())\n",
        "print(s.isalnum())\n",
        "print(s.isalpha())\n",
        "print(s.isspace())\n"
      ],
      "metadata": {
        "colab": {
          "base_uri": "https://localhost:8080/"
        },
        "id": "cA7fdOZD6trt",
        "outputId": "1207ffaf-d5f3-4111-ac55-b9ca9374c8a8"
      },
      "execution_count": null,
      "outputs": [
        {
          "output_type": "stream",
          "name": "stdout",
          "text": [
            "HELLO, WORLD!\n",
            "hello, world!\n",
            "Hello, world!\n",
            "Hello, World!\n",
            "hELlO, WoRLd!\n",
            "3\n",
            "hello, world!\n",
            "hemmo, wormd!\n",
            "hello, world!\n",
            "hello, world!\n",
            "True\n",
            "True\n",
            "7\n",
            "10\n",
            "11\n",
            "7\n",
            "['he', '', 'o, wor', 'd!']\n",
            "['hello,', 'world!']\n",
            " \n",
            "False\n",
            "False\n",
            "False\n"
          ]
        }
      ]
    },
    {
      "cell_type": "code",
      "source": [
        "s=input()\n",
        "s2=s.lower()\n",
        "a=s2.count(\"a\")\n",
        "e=s2.count(\"e\")\n",
        "i=s2.count(\"i\")\n",
        "o=s2.count(\"o\")\n",
        "u=s2.count(\"u\")\n",
        "#adding\n",
        "print(f\"no.of vowels:{a+e+i+o+u}\")"
      ],
      "metadata": {
        "colab": {
          "base_uri": "https://localhost:8080/"
        },
        "id": "VJXszsLrNGV4",
        "outputId": "5de9b59c-589c-45e6-d7eb-94ad5b4b74d3"
      },
      "execution_count": null,
      "outputs": [
        {
          "output_type": "stream",
          "name": "stdout",
          "text": [
            "helloworld\n",
            "no.of vowels:3\n"
          ]
        }
      ]
    },
    {
      "cell_type": "code",
      "source": [
        "\n",
        "#write a progm that takes a string input from the user and counts the no of vowels in the string\n",
        "s=input()\n",
        "s2=\"aeiouAEIOU\"\n",
        "count=0\n",
        "for i in s:\n",
        "    if i in s2:\n",
        "        count+=1\n",
        "print(count)"
      ],
      "metadata": {
        "colab": {
          "base_uri": "https://localhost:8080/"
        },
        "id": "37c92G6L6v1g",
        "outputId": "4a8a86b0-05b1-46e2-908d-fac2a2d8db74"
      },
      "execution_count": null,
      "outputs": [
        {
          "output_type": "stream",
          "name": "stdout",
          "text": [
            "swarna\n",
            "2\n"
          ]
        }
      ]
    },
    {
      "cell_type": "code",
      "source": [
        "\n",
        "#write a progm that takes a string input from the user and counts the no of consonants in the string\n",
        "s=input()\n",
        "s2=\"aeiouAEIOU\"\n",
        "count=0\n",
        "for i in s:\n",
        "    if i not in s2:\n",
        "        count+=1\n",
        "print(count)"
      ],
      "metadata": {
        "id": "CDVVWFZAPyvZ"
      },
      "execution_count": null,
      "outputs": []
    },
    {
      "cell_type": "code",
      "source": [
        "#create a program that takes the marks of a student in different sub as input calculate the total marks ans avg & display the corresponding grade based on the avg\n",
        "m=int(input(\"enter the marks of m:\"))\n",
        "s=int(input(\"enter the marks of s:\"))\n",
        "e=int(input(\"enter the marks of e:\"))\n",
        "total_marks=m+s+e\n",
        "avg=total_marks/3\n",
        "percetage=total_marks/300*100\n",
        "grade=\"\"\n",
        "if percetage>90:\n",
        "    grade=\"o\"\n",
        "elif percetage>=80 and percetage<=90:\n",
        "     grade=\"A\"\n",
        "elif percetage>=70 and percetage<80:\n",
        "    grade=\"B\"\n",
        "else:\n",
        "   grade=\"pass\"\n",
        "print(f\"total marks:{total_marks} \\navg:{avg} \\ngrade:{grade}\")"
      ],
      "metadata": {
        "colab": {
          "base_uri": "https://localhost:8080/"
        },
        "id": "madIDR0BSRA7",
        "outputId": "9439b4bf-fb8f-41b8-8a64-09a490376167"
      },
      "execution_count": null,
      "outputs": [
        {
          "output_type": "stream",
          "name": "stdout",
          "text": [
            "enter the marks of m:85\n",
            "enter the marks of s:70\n",
            "enter the marks of e:94\n",
            "total marks:249 \n",
            "avg:83.0 \n",
            "grade:A\n"
          ]
        }
      ]
    },
    {
      "cell_type": "code",
      "source": [
        "#palindrome\n",
        "s=input()\n",
        "if s==s[::-1]:\n",
        "    print(\"palindrome\")\n",
        "else:\n",
        "    print(\"not palindrome\")\n"
      ],
      "metadata": {
        "colab": {
          "base_uri": "https://localhost:8080/"
        },
        "id": "VqnD_u0wV6hT",
        "outputId": "c94b588f-c69c-4b9c-d94e-2b23c681d748"
      },
      "execution_count": null,
      "outputs": [
        {
          "output_type": "stream",
          "name": "stdout",
          "text": [
            "mam\n",
            "palindrome\n"
          ]
        }
      ]
    },
    {
      "cell_type": "code",
      "source": [
        "#largest of 3 numbers\n",
        "a=int(input())\n",
        "b=int(input())\n",
        "c=int(input())\n",
        "if a>b and a>c:\n",
        "    print(f\"{a} is largest\")\n",
        "elif b>a and b>c:\n",
        "    print(f\"{b} is largest\")\n",
        "else:\n",
        "    print(f\"{c} is largest\")"
      ],
      "metadata": {
        "colab": {
          "base_uri": "https://localhost:8080/"
        },
        "id": "mTHO9KlOWVHv",
        "outputId": "cb74c812-a721-40c2-e59a-d6e4eb39cf90"
      },
      "execution_count": null,
      "outputs": [
        {
          "output_type": "stream",
          "name": "stdout",
          "text": [
            "4\n",
            "3\n",
            "5\n",
            "5 is largest\n"
          ]
        }
      ]
    },
    {
      "cell_type": "code",
      "source": [
        "#largest of 3 numbers\n",
        "a=input()\n",
        "x,y,z=a.split(\",\")\n",
        "if x>y and x>z:\n",
        "    print(f\" x:{x} is largest\")\n",
        "elif y>x and y>z:\n",
        "    print(f\"y:{y} is largest\")\n",
        "else:\n",
        "      print(f\"z:{z} is largest\")"
      ],
      "metadata": {
        "colab": {
          "base_uri": "https://localhost:8080/"
        },
        "id": "FK5vYJTFWxO6",
        "outputId": "9e70e9f1-d7c4-4422-f567-e89e7562212e"
      },
      "execution_count": null,
      "outputs": [
        {
          "output_type": "stream",
          "name": "stdout",
          "text": [
            "2,4,1\n",
            "y:4 is largest\n"
          ]
        }
      ]
    },
    {
      "cell_type": "code",
      "source": [
        "a,b,c = map(int,input(\"enter the values\").split(\",\"))\n",
        "if a>=b and a>=c :\n",
        "    print(f\"the largest number is {a}\")\n",
        "elif b>=a and b>=c :\n",
        "    print(f\"the largest number is {b}\")\n",
        "else :\n",
        "    print(f\"the largest number is {c}\")"
      ],
      "metadata": {
        "colab": {
          "base_uri": "https://localhost:8080/"
        },
        "id": "EMEwv_uYY-wx",
        "outputId": "f063e4a6-f145-4493-831e-9bf240185507"
      },
      "execution_count": null,
      "outputs": [
        {
          "output_type": "stream",
          "name": "stdout",
          "text": [
            "enter the values2,3,1\n",
            "the largest number is 3\n"
          ]
        }
      ]
    },
    {
      "cell_type": "code",
      "source": [
        "#leap year\n",
        "year=int(input())\n",
        "if year%4==0 and year%100!=0 or year%400==0:\n",
        "    print(\"leap year\")\n",
        "else:\n",
        "    print(\"not leap year\")"
      ],
      "metadata": {
        "colab": {
          "base_uri": "https://localhost:8080/"
        },
        "id": "ADtq9yF7hGCG",
        "outputId": "7d35c5ea-58f6-4bc8-f124-3c4a946eafc2"
      },
      "execution_count": null,
      "outputs": [
        {
          "output_type": "stream",
          "name": "stdout",
          "text": [
            "2023\n",
            "not leap year\n"
          ]
        }
      ]
    },
    {
      "cell_type": "code",
      "source": [
        "#Print numbers from 1 to 100. For multiples of 3, print \"Fizz\" instead of the number. For multiples of 5, print \"Buzz\". For multiples of both, print \"FizzBuzz\".\n",
        "\n",
        "for i in range(1, 101):\n",
        "    if i % 3 == 0 and i % 5 == 0:\n",
        "        print(\"FizzBuzz\")\n",
        "    elif i % 3 == 0:\n",
        "        print(\"Fizz\")\n",
        "    elif i % 5 == 0:\n",
        "        print(\"Buzz\")\n",
        "    else:\n",
        "        print(i)\n"
      ],
      "metadata": {
        "colab": {
          "base_uri": "https://localhost:8080/"
        },
        "collapsed": true,
        "id": "EXA8KeD5llfk",
        "outputId": "02da8843-76d5-440b-c74e-dcf6279a4269"
      },
      "execution_count": null,
      "outputs": [
        {
          "output_type": "stream",
          "name": "stdout",
          "text": [
            "1\n",
            "2\n",
            "Fizz\n",
            "4\n",
            "Buzz\n",
            "Fizz\n",
            "7\n",
            "8\n",
            "Fizz\n",
            "Buzz\n",
            "11\n",
            "Fizz\n",
            "13\n",
            "14\n",
            "FizzBuzz\n",
            "16\n",
            "17\n",
            "Fizz\n",
            "19\n",
            "Buzz\n",
            "Fizz\n",
            "22\n",
            "23\n",
            "Fizz\n",
            "Buzz\n",
            "26\n",
            "Fizz\n",
            "28\n",
            "29\n",
            "FizzBuzz\n",
            "31\n",
            "32\n",
            "Fizz\n",
            "34\n",
            "Buzz\n",
            "Fizz\n",
            "37\n",
            "38\n",
            "Fizz\n",
            "Buzz\n",
            "41\n",
            "Fizz\n",
            "43\n",
            "44\n",
            "FizzBuzz\n",
            "46\n",
            "47\n",
            "Fizz\n",
            "49\n",
            "Buzz\n",
            "Fizz\n",
            "52\n",
            "53\n",
            "Fizz\n",
            "Buzz\n",
            "56\n",
            "Fizz\n",
            "58\n",
            "59\n",
            "FizzBuzz\n",
            "61\n",
            "62\n",
            "Fizz\n",
            "64\n",
            "Buzz\n",
            "Fizz\n",
            "67\n",
            "68\n",
            "Fizz\n",
            "Buzz\n",
            "71\n",
            "Fizz\n",
            "73\n",
            "74\n",
            "FizzBuzz\n",
            "76\n",
            "77\n",
            "Fizz\n",
            "79\n",
            "Buzz\n",
            "Fizz\n",
            "82\n",
            "83\n",
            "Fizz\n",
            "Buzz\n",
            "86\n",
            "Fizz\n",
            "88\n",
            "89\n",
            "FizzBuzz\n",
            "91\n",
            "92\n",
            "Fizz\n",
            "94\n",
            "Buzz\n",
            "Fizz\n",
            "97\n",
            "98\n",
            "Fizz\n",
            "Buzz\n"
          ]
        }
      ]
    },
    {
      "cell_type": "code",
      "source": [
        "\n",
        "# Given an array of integers, find two numbers such that they add up to a specific target.\n",
        "# Input: nums = [2, 7, 11, 15], target = 9\n",
        "# Output: [0, 1]\n",
        "\n",
        "def two_sum(nums, target):\n",
        "    seen = {}\n",
        "    for i, num in enumerate(nums):\n",
        "        diff = target - num\n",
        "        if diff in seen:\n",
        "            return [seen[diff], i]\n",
        "        seen[num] = i\n",
        "\n",
        "print(two_sum([2, 7, 11, 15], 18))  # [0, 1]"
      ],
      "metadata": {
        "colab": {
          "base_uri": "https://localhost:8080/"
        },
        "id": "bFUBr8tjm8ET",
        "outputId": "58eb92ea-88d8-4cad-eae8-e469fafa3ca0"
      },
      "execution_count": null,
      "outputs": [
        {
          "output_type": "stream",
          "name": "stdout",
          "text": [
            "[1, 2]\n"
          ]
        }
      ]
    },
    {
      "cell_type": "code",
      "source": [
        "#Find the Second Largest Number\n",
        "\n",
        "def second_largest(nums):\n",
        "    nums = list(set(nums))  # Remove duplicates\n",
        "    nums.sort()\n",
        "    return nums[-2]\n",
        "\n",
        "print(second_largest([10, 20, 45, 4, 99]))"
      ],
      "metadata": {
        "colab": {
          "base_uri": "https://localhost:8080/"
        },
        "id": "5yTlu0W3mUgw",
        "outputId": "95368a8d-4ddf-435e-8514-ab6df818dd63"
      },
      "execution_count": null,
      "outputs": [
        {
          "output_type": "stream",
          "name": "stdout",
          "text": [
            "45\n"
          ]
        }
      ]
    },
    {
      "cell_type": "code",
      "source": [
        "def second_largest(nums):\n",
        "    if len(nums) < 2:\n",
        "        return None  # Not enough elements\n",
        "\n",
        "    # Step 1: Initialize largest and second_largest using first two elements\n",
        "    largest = nums[0]\n",
        "    second_largest = None\n",
        "\n",
        "    for num in nums[1:]:\n",
        "        if num > largest:\n",
        "            second_largest = largest\n",
        "            largest = num\n",
        "        elif num != largest:\n",
        "            if second_largest is None or num > second_largest:\n",
        "                second_largest = num\n",
        "\n",
        "    return second_largest\n",
        "\n",
        "# Example usage\n",
        "print(second_largest([10, 20, 45, 4, 99]))"
      ],
      "metadata": {
        "id": "5HCwnn-BRyWY",
        "outputId": "d552b45d-9a5a-4fd9-f19c-b14734a95e3c",
        "colab": {
          "base_uri": "https://localhost:8080/"
        }
      },
      "execution_count": null,
      "outputs": [
        {
          "output_type": "stream",
          "name": "stdout",
          "text": [
            "45\n"
          ]
        }
      ]
    },
    {
      "cell_type": "code",
      "source": [
        "# Check if two strings are anagrams of each other.\n",
        "# Input: \"listen\", \"silent\"\n",
        "# Output: True\n",
        "\n",
        "def is_anagram(str1, str2):\n",
        "    return sorted(str1) == sorted(str2)\n",
        "\n",
        "print(is_anagram(\"listen\", \"silent\"))  # True"
      ],
      "metadata": {
        "id": "nYaA2nmWm74I"
      },
      "execution_count": null,
      "outputs": []
    },
    {
      "cell_type": "code",
      "source": [
        "#is_anagram\n",
        "def is_anagram(str1, str2):\n",
        "    str1 = str1.replace(\" \", \"\").lower()\n",
        "    str2 = str2.replace(\" \", \"\").lower()\n",
        "    return sorted(str1) == sorted(str2)"
      ],
      "metadata": {
        "id": "9gXTy2h0qnOd"
      },
      "execution_count": null,
      "outputs": []
    },
    {
      "cell_type": "code",
      "source": [
        "#anagram\n",
        "#strings does not have .sort() ithas sorted()\n",
        "str1=input(\"Enter first string:\")\n",
        "str2=input(\"Enter second string:\")\n",
        "\n",
        "a=sorted(str1)\n",
        "b=sorted(str2)\n",
        "if a==b:\n",
        "    print(\"The strings are anagrams\")\n",
        "else:\n",
        "    print(\"The strings are not anagrams\")"
      ],
      "metadata": {
        "colab": {
          "base_uri": "https://localhost:8080/"
        },
        "id": "gYmzJJsdqz9k",
        "outputId": "7eecdbe4-60d2-4657-f382-5022e7e1c034"
      },
      "execution_count": null,
      "outputs": [
        {
          "output_type": "stream",
          "name": "stdout",
          "text": [
            "Enter first string:listen\n",
            "Enter second string:Listen\n",
            "The strings are not anagrams\n"
          ]
        }
      ]
    },
    {
      "cell_type": "code",
      "source": [
        "candies=10\n",
        "\n",
        "while candies>0:\n",
        "  print(\"enter the candies\")\n",
        "  candies=candies-1\n",
        "\n",
        "  print(f\"candies left:{candies}\")\n",
        "  # print(candies)"
      ],
      "metadata": {
        "colab": {
          "base_uri": "https://localhost:8080/"
        },
        "id": "-FXs-DSMwpAr",
        "outputId": "095e87de-0bd0-443a-fb9b-f16d5bc9faf3"
      },
      "execution_count": null,
      "outputs": [
        {
          "output_type": "stream",
          "name": "stdout",
          "text": [
            "enter the candies\n",
            "candies left:9\n",
            "enter the candies\n",
            "candies left:8\n",
            "enter the candies\n",
            "candies left:7\n",
            "enter the candies\n",
            "candies left:6\n",
            "enter the candies\n",
            "candies left:5\n",
            "enter the candies\n",
            "candies left:4\n",
            "enter the candies\n",
            "candies left:3\n",
            "enter the candies\n",
            "candies left:2\n",
            "enter the candies\n",
            "candies left:1\n",
            "enter the candies\n",
            "candies left:0\n"
          ]
        }
      ]
    },
    {
      "cell_type": "code",
      "source": [
        "#break\n",
        "candies=10\n",
        "for i in range(candies):\n",
        "    print(\"enter the candies\")\n",
        "    if i==5:\n",
        "        break\n",
        "print(\"candies left:\",candies-i)"
      ],
      "metadata": {
        "colab": {
          "base_uri": "https://localhost:8080/"
        },
        "id": "oR0DZn5j0YvW",
        "outputId": "4f88ba5c-7e94-4740-a3a9-1b05cf4b638f"
      },
      "execution_count": null,
      "outputs": [
        {
          "output_type": "stream",
          "name": "stdout",
          "text": [
            "enter the candies\n",
            "enter the candies\n",
            "enter the candies\n",
            "enter the candies\n",
            "enter the candies\n",
            "enter the candies\n",
            "candies left: 5\n"
          ]
        }
      ]
    },
    {
      "cell_type": "code",
      "source": [
        "def find_median(data):\n",
        "    sorted_data = sorted(data)\n",
        "    n = len(sorted_data)\n",
        "    if n % 2 == 0:\n",
        "        mid1 = sorted_data[n // 2 - 1]\n",
        "        mid2 = sorted_data[n // 2]\n",
        "        return (mid1 + mid2) / 2\n",
        "    else:\n",
        "        return sorted_data[n // 2]\n",
        "\n",
        "def format_median(med):\n",
        "    return int(med) if med == int(med) else med\n",
        "\n",
        "def process_operations(operations):\n",
        "    current_list = []\n",
        "    output = []\n",
        "    for op in operations:\n",
        "        parts = op.split()\n",
        "        operation_type = parts[0]\n",
        "        value = int(parts[1])\n",
        "\n",
        "        if operation_type == 'a':\n",
        "            current_list.append(value)\n",
        "        elif operation_type == 'r':\n",
        "            if value in current_list:\n",
        "                current_list.remove(value)\n",
        "            else:\n",
        "                output.append(\"wrong\")\n",
        "                continue\n",
        "\n",
        "        if current_list:\n",
        "            median = find_median(current_list)\n",
        "            output.append(format_median(median))\n",
        "        else:\n",
        "            output.append(\"wrong\")\n",
        "\n",
        "    return \" \".join(map(str, output))\n",
        "\n",
        "if __name__ == \"__main__\":\n",
        "    n = int(input())\n",
        "    operations = [input().strip() for _ in range(n)]\n",
        "    result = process_operations(operations)\n",
        "    print(result)\n"
      ],
      "metadata": {
        "colab": {
          "base_uri": "https://localhost:8080/"
        },
        "id": "DCVOTObt4TOa",
        "outputId": "cedb5e85-d0fb-450c-a784-72b7cd467029"
      },
      "execution_count": null,
      "outputs": [
        {
          "output_type": "stream",
          "name": "stdout",
          "text": [
            "6\n",
            "a 1\n",
            "a 2\n",
            "a 3\n",
            "r 2\n",
            "r 1 \n",
            "r 3\n",
            "1 1.5 2 2 3 wrong\n"
          ]
        }
      ]
    },
    {
      "cell_type": "code",
      "source": [
        "def is_prime(n):\n",
        "    if n < 2:\n",
        "        return False\n",
        "    for i in range(2, int(n**0.5)+1):\n",
        "        if n % i == 0:\n",
        "            return False\n",
        "    return True\n",
        "\n",
        "def generate_primes(q):\n",
        "    primes = []\n",
        "    num = 2\n",
        "    while len(primes) < q:\n",
        "        if is_prime(num):\n",
        "            primes.append(num)\n",
        "        num += 1\n",
        "    return primes\n",
        "\n",
        "def waiter(plates, q):\n",
        "    primes = generate_primes(q)\n",
        "    answers = []\n",
        "\n",
        "    for i in range(q):\n",
        "        prime = primes[i]\n",
        "        A = []\n",
        "        B = []\n",
        "        while plates:\n",
        "            plate = plates.pop()\n",
        "            if plate % prime == 0:\n",
        "                B.append(plate)\n",
        "            else:\n",
        "                A.append(plate)\n",
        "        answers.extend(reversed(B))  # B_i in top-to-bottom order\n",
        "        plates = A  # Set up A_i for next round\n",
        "\n",
        "    answers.extend(reversed(plates))  # Remaining plates from last A_i\n",
        "    return answers\n",
        "\n",
        "# Example usage\n",
        "A = [2, 3, 4, 5, 6, 7]\n",
        "q = 3\n",
        "result = waiter(A, q)\n",
        "print(result)"
      ],
      "metadata": {
        "colab": {
          "base_uri": "https://localhost:8080/"
        },
        "id": "ZDd0mdFz5T0a",
        "outputId": "17b5057f-ef05-45c1-8695-4f911d564fcb"
      },
      "execution_count": null,
      "outputs": [
        {
          "output_type": "stream",
          "name": "stdout",
          "text": [
            "[2, 4, 6, 3, 5, 7]\n"
          ]
        }
      ]
    },
    {
      "cell_type": "code",
      "source": [
        "#print num from 1 to n\n",
        "n=int(input())\n",
        "for i in range(1,n+1):\n",
        "    print(i)"
      ],
      "metadata": {
        "colab": {
          "base_uri": "https://localhost:8080/"
        },
        "id": "7wwf3VDQ6V0f",
        "outputId": "7c84fe7e-1adb-44e6-e833-57584f0418d8"
      },
      "execution_count": null,
      "outputs": [
        {
          "output_type": "stream",
          "name": "stdout",
          "text": [
            "10\n",
            "1\n",
            "2\n",
            "3\n",
            "4\n",
            "5\n",
            "6\n",
            "7\n",
            "8\n",
            "9\n",
            "10\n"
          ]
        }
      ]
    },
    {
      "cell_type": "code",
      "source": [
        "#sum of n natural numbers\n",
        "n=int(input())\n",
        "i=1\n",
        "sum=0\n",
        "while i<=n:\n",
        "  sum=i+sum\n",
        "  i=i+1\n",
        "print(sum)\n"
      ],
      "metadata": {
        "colab": {
          "base_uri": "https://localhost:8080/"
        },
        "id": "w7o48i1-9NRd",
        "outputId": "80ee4057-ab0f-4613-ce18-17f71ec0b06c"
      },
      "execution_count": null,
      "outputs": [
        {
          "output_type": "stream",
          "name": "stdout",
          "text": [
            "3\n",
            "6\n"
          ]
        }
      ]
    },
    {
      "cell_type": "code",
      "source": [
        "#sum of n natural numbers\n",
        "n=int(input())\n",
        "i=1\n",
        "while i<=n:\n",
        "  if i%2==0:\n",
        "    print(i)\n",
        "  i=i+1\n"
      ],
      "metadata": {
        "colab": {
          "base_uri": "https://localhost:8080/"
        },
        "id": "Avy0zrpDAb9s",
        "outputId": "08dafd8e-c21e-4284-b594-d5314af51fcf"
      },
      "execution_count": null,
      "outputs": [
        {
          "output_type": "stream",
          "name": "stdout",
          "text": [
            "6\n",
            "2\n",
            "4\n",
            "6\n"
          ]
        }
      ]
    },
    {
      "cell_type": "code",
      "source": [
        "n=int(input())\n",
        "for i in range(1,n+1):\n",
        "  if i%2==0:\n",
        "    print(i)"
      ],
      "metadata": {
        "colab": {
          "base_uri": "https://localhost:8080/"
        },
        "id": "IlXAo8FYBGaX",
        "outputId": "c3c3e40b-6159-4ae6-f137-fb03ba4a0444"
      },
      "execution_count": null,
      "outputs": [
        {
          "output_type": "stream",
          "name": "stdout",
          "text": [
            "10\n",
            "2\n",
            "4\n",
            "6\n",
            "8\n",
            "10\n"
          ]
        }
      ]
    },
    {
      "cell_type": "code",
      "source": [
        "n=int(input())\n",
        "i=1\n",
        "while i<=n:\n",
        "  if not(i%2==0):\n",
        "    i=i+1\n",
        "    continue\n",
        "  i=i+1\n",
        "  print(i)"
      ],
      "metadata": {
        "colab": {
          "base_uri": "https://localhost:8080/"
        },
        "id": "8DsvYF4HBxWr",
        "outputId": "4ba50d66-536b-4c84-a876-7e6664808ad3"
      },
      "execution_count": null,
      "outputs": [
        {
          "output_type": "stream",
          "name": "stdout",
          "text": [
            "10\n",
            "3\n",
            "5\n",
            "7\n",
            "9\n",
            "11\n"
          ]
        }
      ]
    },
    {
      "cell_type": "code",
      "source": [
        "#table\n",
        "n=int(input())\n",
        "i=1\n",
        "while i<=10:\n",
        "  print(f\"{n} x {i} = {n*i}\")\n",
        "  i=i+1"
      ],
      "metadata": {
        "colab": {
          "base_uri": "https://localhost:8080/"
        },
        "id": "xIiRzYAuFH27",
        "outputId": "c52a6c17-bf36-4f20-f964-85825a5d7f61"
      },
      "execution_count": null,
      "outputs": [
        {
          "output_type": "stream",
          "name": "stdout",
          "text": [
            "3\n",
            "3 x 1 = 3\n",
            "3 x 2 = 6\n",
            "3 x 3 = 9\n",
            "3 x 4 = 12\n",
            "3 x 5 = 15\n",
            "3 x 6 = 18\n",
            "3 x 7 = 21\n",
            "3 x 8 = 24\n",
            "3 x 9 = 27\n",
            "3 x 10 = 30\n"
          ]
        }
      ]
    },
    {
      "cell_type": "code",
      "source": [
        "n=int(input())\n",
        "for i in range(1,11):\n",
        "  print(f\"{n} x {i} = {n*i}\")"
      ],
      "metadata": {
        "colab": {
          "base_uri": "https://localhost:8080/"
        },
        "id": "CH99VvlKFkKF",
        "outputId": "de6546ea-70ff-4e64-9fd3-48b118330ca5"
      },
      "execution_count": null,
      "outputs": [
        {
          "output_type": "stream",
          "name": "stdout",
          "text": [
            "3\n",
            "3 x 1 = 3\n",
            "3 x 2 = 6\n",
            "3 x 3 = 9\n",
            "3 x 4 = 12\n",
            "3 x 5 = 15\n",
            "3 x 6 = 18\n",
            "3 x 7 = 21\n",
            "3 x 8 = 24\n",
            "3 x 9 = 27\n",
            "3 x 10 = 30\n"
          ]
        }
      ]
    },
    {
      "cell_type": "code",
      "source": [
        "n=int(input())\n",
        "fact=1\n",
        "\n",
        "while n>0:\n",
        "  fact=fact*n\n",
        "  n=n-1\n",
        "print(fact)"
      ],
      "metadata": {
        "id": "FZEs4eUhH69U",
        "colab": {
          "base_uri": "https://localhost:8080/"
        },
        "outputId": "ea678113-5428-4cdd-c21d-a17a5f8aebec"
      },
      "execution_count": null,
      "outputs": [
        {
          "output_type": "stream",
          "name": "stdout",
          "text": [
            "5\n",
            "120\n"
          ]
        }
      ]
    },
    {
      "cell_type": "code",
      "source": [
        "#factorial using for loop\n",
        "n=int(input())\n",
        "fact=1\n",
        "for i in range(1,n+1):\n",
        "  fact=fact*i\n",
        "print(fact)"
      ],
      "metadata": {
        "colab": {
          "base_uri": "https://localhost:8080/"
        },
        "id": "TrWGO2JriHJk",
        "outputId": "4c4b7fe6-b4dc-4479-dc4c-44403c6beace"
      },
      "execution_count": null,
      "outputs": [
        {
          "output_type": "stream",
          "name": "stdout",
          "text": [
            "5\n",
            "120\n"
          ]
        }
      ]
    },
    {
      "cell_type": "code",
      "source": [
        "add=lambda a,b:a+b\n",
        "print(add(2,3))"
      ],
      "metadata": {
        "colab": {
          "base_uri": "https://localhost:8080/"
        },
        "id": "jN4BZCM1pMm5",
        "outputId": "e0994c70-a88d-4196-b9c7-de0e3b27be35"
      },
      "execution_count": null,
      "outputs": [
        {
          "output_type": "stream",
          "name": "stdout",
          "text": [
            "5\n"
          ]
        }
      ]
    },
    {
      "cell_type": "code",
      "source": [
        "sqare=lambda x:x**2\n",
        "print(sqare(2))"
      ],
      "metadata": {
        "colab": {
          "base_uri": "https://localhost:8080/"
        },
        "id": "G8u076slpUqR",
        "outputId": "6f6f5713-0446-4394-b194-75728bc0b0ba"
      },
      "execution_count": null,
      "outputs": [
        {
          "output_type": "stream",
          "name": "stdout",
          "text": [
            "4\n"
          ]
        }
      ]
    },
    {
      "cell_type": "code",
      "source": [
        "def add(a,b):\n",
        "  print(a+b)\n",
        "add(2,4)\n",
        "#   return a+b\n",
        "# print(add(2,3))"
      ],
      "metadata": {
        "colab": {
          "base_uri": "https://localhost:8080/"
        },
        "id": "6pFs_9cep5mX",
        "outputId": "6a79a551-7311-4c74-a197-960078aea3d3"
      },
      "execution_count": null,
      "outputs": [
        {
          "output_type": "stream",
          "name": "stdout",
          "text": [
            "6\n"
          ]
        }
      ]
    },
    {
      "cell_type": "code",
      "source": [
        "#list comprehensions create a way to createlistn using single line of  code\n",
        "inp=input().split()\n",
        "print(inp)"
      ],
      "metadata": {
        "colab": {
          "base_uri": "https://localhost:8080/"
        },
        "id": "KHUxTjbC-oZB",
        "outputId": "a06b1a8f-7df9-4fff-ac0a-1f3cb2e438b9"
      },
      "execution_count": null,
      "outputs": [
        {
          "output_type": "stream",
          "name": "stdout",
          "text": [
            "1 2 3 4 5 \n",
            "['1', '2', '3', '4', '5']\n"
          ]
        }
      ]
    },
    {
      "cell_type": "code",
      "source": [
        "inp=input().split()\n",
        "l= [(int(item))**2 for item in inp]\n",
        "print(l)"
      ],
      "metadata": {
        "colab": {
          "base_uri": "https://localhost:8080/"
        },
        "id": "r65_3X4Z-saY",
        "outputId": "d8fa660f-3087-47ef-e373-9c2ec48e6827"
      },
      "execution_count": null,
      "outputs": [
        {
          "output_type": "stream",
          "name": "stdout",
          "text": [
            "2 3 4 4 4 \n",
            "[4, 9, 16, 16, 16]\n"
          ]
        }
      ]
    },
    {
      "cell_type": "code",
      "source": [
        "#sets\n",
        "a={1,2,3}\n",
        "b={2,3,4}\n",
        "union=a.union(b)\n",
        "print(union)\n",
        "\n",
        "inter=a.intersection(b)\n",
        "print(inter)\n",
        "\n",
        "differ=a.difference(b)\n",
        "print(differ)\n",
        "\n",
        "symmetric_differ=a.symmetric_difference(b)\n",
        "print(symmetric_differ)\n",
        "\n",
        "print(2 in a)#membership\n",
        "\n",
        "print(len(b))\n",
        "\n",
        "frozen_set=frozenset(a)#immutable set\n",
        "print(frozen_set)\n",
        "print(a)\n",
        "\n",
        "#set comprehension\n",
        "comp={i**2 for i in range(1,6)}\n",
        "print(comp)\n",
        "\n",
        "#methods\n",
        "#clear(),copy(),pop(),update()\n",
        "#clear\n",
        "a.copy()\n",
        "print(a)\n",
        "\n",
        "b.update([5,6])\n",
        "print(b)\n",
        "\n",
        "b.pop()\n",
        "print(b)\n"
      ],
      "metadata": {
        "colab": {
          "base_uri": "https://localhost:8080/"
        },
        "id": "Z3LMfmlhD3qZ",
        "outputId": "fe551774-fc7d-4b39-d8e1-285324944a92"
      },
      "execution_count": null,
      "outputs": [
        {
          "output_type": "stream",
          "name": "stdout",
          "text": [
            "{1, 2, 3, 4}\n",
            "{2, 3}\n",
            "{1}\n",
            "{1, 4}\n",
            "True\n",
            "3\n",
            "frozenset({1, 2, 3})\n",
            "{1, 2, 3}\n",
            "{1, 4, 9, 16, 25}\n",
            "{1, 2, 3}\n",
            "{2, 3, 4, 5, 6}\n",
            "{3, 4, 5, 6}\n"
          ]
        }
      ]
    },
    {
      "cell_type": "code",
      "source": [
        "#dictionary\n",
        "dict={\"a\":1,\"b\":2,\"c\":3}\n",
        "dict.pop('b')\n",
        "print(dict)\n",
        "print(dict['a'])\n",
        "\n",
        "first_val=dict['a']\n",
        "print(first_val)\n",
        "\n",
        "#adding\n",
        "dict[\"d\"]=4\n",
        "print(dict)\n",
        "\n",
        "#changing/modifying\n",
        "dict[\"a\"]=5\n",
        "print(dict)\n",
        "\n",
        "#methods\n",
        "#keys(),value(),items(),get(),pop(),update()\n",
        "\n",
        "print(dict.get(\"a\"))#dict[\"a\"]\n",
        "print(dict.items())\n",
        "print(dict.keys())\n",
        "print(dict.values())"
      ],
      "metadata": {
        "colab": {
          "base_uri": "https://localhost:8080/"
        },
        "id": "ZIFGIQPXDkFB",
        "outputId": "784e6495-19ce-4a9b-adb0-601239c796ba"
      },
      "execution_count": null,
      "outputs": [
        {
          "output_type": "stream",
          "name": "stdout",
          "text": [
            "{'a': 1, 'c': 3}\n",
            "1\n",
            "1\n",
            "{'a': 1, 'c': 3, 'd': 4}\n",
            "{'a': 5, 'c': 3, 'd': 4}\n",
            "5\n",
            "dict_items([('a', 5), ('c', 3), ('d', 4)])\n",
            "dict_keys(['a', 'c', 'd'])\n",
            "dict_values([5, 3, 4])\n"
          ]
        }
      ]
    },
    {
      "cell_type": "code",
      "source": [
        "l=[1,2,3,4,5]\n",
        "for i in l:\n",
        "  print(i)"
      ],
      "metadata": {
        "colab": {
          "base_uri": "https://localhost:8080/"
        },
        "id": "1hDmqfOhOSC_",
        "outputId": "ab00669e-f953-45dd-ba09-99372915e859"
      },
      "execution_count": null,
      "outputs": [
        {
          "output_type": "stream",
          "name": "stdout",
          "text": [
            "1\n",
            "2\n",
            "3\n",
            "4\n",
            "5\n",
            "[1, 2, 3, 4, 5]\n"
          ]
        }
      ]
    },
    {
      "cell_type": "code",
      "source": [
        "l={1:\"a\",2:\"b\",3:\"c\"}\n",
        "for key in l:\n",
        "  print(key)\n"
      ],
      "metadata": {
        "colab": {
          "base_uri": "https://localhost:8080/"
        },
        "id": "TaAOtkVxOzqb",
        "outputId": "0e2e485e-a1e5-4636-fd07-d9e0ba662475"
      },
      "execution_count": null,
      "outputs": [
        {
          "output_type": "stream",
          "name": "stdout",
          "text": [
            "1\n",
            "2\n",
            "3\n"
          ]
        }
      ]
    },
    {
      "cell_type": "code",
      "source": [
        "l={1:\"a\",2:\"b\",3:\"c\"}\n",
        "for value in l.values():\n",
        "  print(value)\n",
        "\n"
      ],
      "metadata": {
        "colab": {
          "base_uri": "https://localhost:8080/"
        },
        "id": "vCpuqgoqPh9u",
        "outputId": "6dbf0a28-215a-4763-b0f3-55977f9d1518"
      },
      "execution_count": null,
      "outputs": [
        {
          "output_type": "stream",
          "name": "stdout",
          "text": [
            "a\n",
            "b\n",
            "c\n"
          ]
        }
      ]
    },
    {
      "cell_type": "code",
      "source": [
        "l={1:\"a\",2:\"b\",3:\"c\"}\n",
        "for key,value in l.items():\n",
        "  print(key,value)"
      ],
      "metadata": {
        "colab": {
          "base_uri": "https://localhost:8080/"
        },
        "id": "oyk430yhP2sq",
        "outputId": "6ab0f2e4-b33b-4587-e80e-488d278e08dc"
      },
      "execution_count": null,
      "outputs": [
        {
          "output_type": "stream",
          "name": "stdout",
          "text": [
            "1 a\n",
            "2 b\n",
            "3 c\n"
          ]
        }
      ]
    },
    {
      "cell_type": "code",
      "source": [
        "#dict comprehension\n",
        "comp={i:i**2 for i in range(1,6)}\n",
        "print(comp)"
      ],
      "metadata": {
        "colab": {
          "base_uri": "https://localhost:8080/"
        },
        "id": "yNhN2UI3QXWv",
        "outputId": "2bd21903-faa8-4083-fa6c-fde4f1a0867b"
      },
      "execution_count": null,
      "outputs": [
        {
          "output_type": "stream",
          "name": "stdout",
          "text": [
            "{1: 1, 2: 4, 3: 9, 4: 16, 5: 25}\n"
          ]
        }
      ]
    },
    {
      "cell_type": "code",
      "source": [
        "#sum of all elements in a list\n",
        "a=[1,2,3,4,5]\n",
        "print(sum(a))"
      ],
      "metadata": {
        "colab": {
          "base_uri": "https://localhost:8080/"
        },
        "id": "2wE30pcvQzYn",
        "outputId": "56f47dac-bfe1-4c15-bf4d-68bce252ead8"
      },
      "execution_count": null,
      "outputs": [
        {
          "output_type": "stream",
          "name": "stdout",
          "text": [
            "15\n"
          ]
        }
      ]
    },
    {
      "cell_type": "code",
      "source": [
        "#sum of all numbers in list using for loop\n",
        "a=[1,2,3,4,5]\n",
        "sum=0\n",
        "for i in a:\n",
        "  sum=sum+i\n",
        "print(sum)\n",
        "\n"
      ],
      "metadata": {
        "colab": {
          "base_uri": "https://localhost:8080/"
        },
        "id": "P6uh-Fr2RRzM",
        "outputId": "6eb7f050-0caf-4bc9-9aea-40918b2a0fd9"
      },
      "execution_count": null,
      "outputs": [
        {
          "output_type": "stream",
          "name": "stdout",
          "text": [
            "15\n"
          ]
        }
      ]
    },
    {
      "cell_type": "code",
      "source": [
        "a=[1,2,3,4,5]\n",
        "sum=0\n",
        "for i in range(len(a)):\n",
        "  sum=sum+a[i]\n",
        "print(sum)"
      ],
      "metadata": {
        "colab": {
          "base_uri": "https://localhost:8080/"
        },
        "id": "wyZbHN_1SRjS",
        "outputId": "222f9bd5-c5ca-4807-ec23-1105971fe9c7"
      },
      "execution_count": null,
      "outputs": [
        {
          "output_type": "stream",
          "name": "stdout",
          "text": [
            "15\n"
          ]
        }
      ]
    },
    {
      "cell_type": "code",
      "source": [
        "a=[1,2,3,4,5]\n",
        "sum=0\n",
        "i=0\n",
        "while i < len(a):\n",
        "  sum=sum+a[i]\n",
        "  i=i+1\n",
        "print(sum)"
      ],
      "metadata": {
        "colab": {
          "base_uri": "https://localhost:8080/"
        },
        "id": "t_nuJAwOSmWV",
        "outputId": "5df919b1-a298-43dc-d0b6-8e471f6fb2b9"
      },
      "execution_count": null,
      "outputs": [
        {
          "output_type": "stream",
          "name": "stdout",
          "text": [
            "15\n"
          ]
        }
      ]
    },
    {
      "cell_type": "code",
      "source": [
        "a=[1,2,3,4,5]\n",
        "for i in range(len(a)):\n",
        "  a[i]=a[i]+5\n",
        "print(a)"
      ],
      "metadata": {
        "colab": {
          "base_uri": "https://localhost:8080/"
        },
        "id": "MdOuDRTdRuw8",
        "outputId": "b1f7f983-a434-4c3a-93a1-ae0f4b02c96c"
      },
      "execution_count": null,
      "outputs": [
        {
          "output_type": "stream",
          "name": "stdout",
          "text": [
            "[6, 7, 8, 9, 10]\n"
          ]
        }
      ]
    },
    {
      "cell_type": "code",
      "source": [
        "a=[3,4,2,5,1]\n",
        "print(max(a))"
      ],
      "metadata": {
        "colab": {
          "base_uri": "https://localhost:8080/"
        },
        "id": "jJIOG6DaY5bw",
        "outputId": "43a46e41-5047-476c-82ec-06db6ccc1233"
      },
      "execution_count": null,
      "outputs": [
        {
          "output_type": "stream",
          "name": "stdout",
          "text": [
            "5\n"
          ]
        }
      ]
    },
    {
      "cell_type": "code",
      "source": [
        "a=[3,4,2,5,1]\n",
        "a.sort()\n",
        "print(f\"{a[0]} is min\")\n",
        "print(f\"{a[-1]} is max\")"
      ],
      "metadata": {
        "colab": {
          "base_uri": "https://localhost:8080/"
        },
        "id": "PGJqR0ATe3l5",
        "outputId": "4496b3f3-4243-478e-d6ce-012993cc0f2a"
      },
      "execution_count": null,
      "outputs": [
        {
          "output_type": "stream",
          "name": "stdout",
          "text": [
            "1 is min\n",
            "5 is max\n"
          ]
        }
      ]
    },
    {
      "cell_type": "code",
      "source": [
        "a=[3,4,2,5,1]\n",
        "a.sort()\n",
        "max=a[0]\n",
        "for i in a:\n",
        "  if a[i]>max:\n",
        "    max=a[i]\n",
        "print(max)"
      ],
      "metadata": {
        "id": "Q8OnDG32fk4G"
      },
      "execution_count": null,
      "outputs": []
    },
    {
      "cell_type": "code",
      "source": [
        "a=[1,2,3,2,4,3,6,2,5]\n",
        "b=list(set(a))\n",
        "print(b)"
      ],
      "metadata": {
        "colab": {
          "base_uri": "https://localhost:8080/"
        },
        "id": "enzVGco1fkzD",
        "outputId": "f7f9d3f5-ef00-486e-af52-daa709f2530f"
      },
      "execution_count": null,
      "outputs": [
        {
          "output_type": "stream",
          "name": "stdout",
          "text": [
            "[1, 2, 3, 4, 5, 6]\n"
          ]
        }
      ]
    },
    {
      "cell_type": "code",
      "source": [
        "#1,2,5,4,5,3,6\n",
        "inp=input().split(',')\n",
        "l=[int(item) for item in inp]\n",
        "#remove dublicate and create new list\n",
        "newL=[]\n",
        "#iterate over all the elements\n",
        "for i in l:\n",
        "  if i in newL:\n",
        "\n",
        "    continue\n",
        "  else:\n",
        "\n",
        "    newL.append(i)\n",
        "newL.sort()\n",
        "print(newL)\n"
      ],
      "metadata": {
        "colab": {
          "base_uri": "https://localhost:8080/"
        },
        "id": "d70RRaZSfkq2",
        "outputId": "53e9ba75-41df-4ee7-8e0c-56c975e396f4"
      },
      "execution_count": null,
      "outputs": [
        {
          "output_type": "stream",
          "name": "stdout",
          "text": [
            "1,2,5,4,5,3,6\n",
            "[1, 2, 3, 4, 5, 6]\n"
          ]
        }
      ]
    },
    {
      "cell_type": "code",
      "source": [
        "#counting\n",
        "from itertools import count\n",
        "a=[1,2,5,4,5,3,6,4,5,2,1]\n",
        "b=list(count(1))\n",
        "print(b)"
      ],
      "metadata": {
        "id": "tXqRe40gygAG"
      },
      "execution_count": null,
      "outputs": []
    },
    {
      "cell_type": "code",
      "source": [
        "# a=[1,2,5,4,5,3,6,4,5,2,1]\n",
        "l=[int(item) for item in input().split(\",\")]\n",
        "count=0\n",
        "n=int(input())\n",
        "for i in l:\n",
        "  if i==n:\n",
        "    count+=1\n",
        "print(count)\n",
        "\n"
      ],
      "metadata": {
        "colab": {
          "base_uri": "https://localhost:8080/"
        },
        "id": "Rf6Vq3pzvBPv",
        "outputId": "72a0a8ce-0778-4ebc-f940-999d3401f88b"
      },
      "execution_count": null,
      "outputs": [
        {
          "output_type": "stream",
          "name": "stdout",
          "text": [
            "1,2,5,4,5,3,6,4,5,2,1\n",
            "1\n",
            "2\n"
          ]
        }
      ]
    },
    {
      "cell_type": "code",
      "source": [
        "a = [1, 2, 5, 4, 5, 3, 6, 4, 5, 2, 1]\n",
        "counts = {}\n",
        "\n",
        "for num in a:\n",
        "    if num in counts:\n",
        "        counts[num] += 1\n",
        "    else:\n",
        "        counts[num] = 1\n",
        "\n",
        "print(counts)\n"
      ],
      "metadata": {
        "colab": {
          "base_uri": "https://localhost:8080/"
        },
        "id": "HFvUJOr0zJ83",
        "outputId": "8cfd868f-3b7e-4c0d-ff4b-3ace61d8de3d"
      },
      "execution_count": null,
      "outputs": [
        {
          "output_type": "stream",
          "name": "stdout",
          "text": [
            "{1: 2, 2: 2, 5: 3, 4: 2, 3: 1, 6: 1}\n"
          ]
        }
      ]
    },
    {
      "cell_type": "code",
      "source": [
        "\n",
        "my_dict = {}\n",
        "a=input()\n",
        "age=int(input())\n",
        "c=input()\n",
        "my_dict[\"name\"] = a\n",
        "my_dict[\"age\"] = age\n",
        "my_dict[\"city\"] = c\n",
        "print(my_dict)"
      ],
      "metadata": {
        "colab": {
          "base_uri": "https://localhost:8080/"
        },
        "id": "CKBiEH_j0VcB",
        "outputId": "ed2b0d44-fe95-45f7-d042-06a47a7610fa"
      },
      "execution_count": null,
      "outputs": [
        {
          "output_type": "stream",
          "name": "stdout",
          "text": [
            "swarna\n",
            "20\n",
            "kkd\n",
            "{'name': 'swarna', 'age': 20, 'city': 'kkd'}\n"
          ]
        }
      ]
    },
    {
      "cell_type": "code",
      "source": [
        "my_dict={\n",
        "    \"name\":\"john\",\n",
        "    \"age\":30,\n",
        "    \"city\":\"new york\"\n",
        "     }\n",
        "for i,j in my_dict.items():\n",
        "  print(i,j)"
      ],
      "metadata": {
        "colab": {
          "base_uri": "https://localhost:8080/"
        },
        "id": "UNzx8OqF2BLl",
        "outputId": "2bd2a3bf-02ae-4ff4-e0f2-8a0789da3dbe"
      },
      "execution_count": null,
      "outputs": [
        {
          "output_type": "stream",
          "name": "stdout",
          "text": [
            "name john\n",
            "age 30\n",
            "city new york\n"
          ]
        }
      ]
    },
    {
      "cell_type": "code",
      "source": [
        "#hackerrank code\n",
        " #for Reversing Word Order and Swapping Case:\n",
        "\n",
        "sentence = input()\n",
        "words = sentence.split()\n",
        "reversed_words = \" \".join(words[::-1])\n",
        "print(reversed_words.swapcase())"
      ],
      "metadata": {
        "colab": {
          "base_uri": "https://localhost:8080/"
        },
        "id": "-lmDLIcCe74g",
        "outputId": "5691ba67-98af-454f-c394-008f333f3f25"
      },
      "execution_count": null,
      "outputs": [
        {
          "output_type": "stream",
          "name": "stdout",
          "text": [
            "goodgirl is swarna\n",
            "SWARNA IS GOODGIRL\n"
          ]
        }
      ]
    },
    {
      "cell_type": "code",
      "source": [],
      "metadata": {
        "id": "9-xrAjkYe9nx"
      },
      "execution_count": null,
      "outputs": []
    },
    {
      "cell_type": "code",
      "source": [
        "# Python program to print first 10 prime numbers\n",
        "\n",
        "# A function name prime is defined\n",
        "# using def\n",
        "def fun(n):\n",
        "    x = 2\n",
        "    count = 0\n",
        "    while count < n:\n",
        "        for d in range(2, int(x ** 0.5) + 1):  # check divisibility only up to sqrt(x)\n",
        "            if x % d == 0:\n",
        "                break  # if divisible, it's not prime, so break the loop\n",
        "        else:\n",
        "            print(x)  # prime number\n",
        "            count += 1\n",
        "        x += 1\n",
        "\n",
        "# Driver Code\n",
        "n = 10\n",
        "\n",
        "fun(n)"
      ],
      "metadata": {
        "id": "sZHZ9i7KVUPo",
        "outputId": "c47ad21a-1bd6-44a0-c44b-2c3e1c326620",
        "colab": {
          "base_uri": "https://localhost:8080/"
        }
      },
      "execution_count": null,
      "outputs": [
        {
          "output_type": "stream",
          "name": "stdout",
          "text": [
            "2\n",
            "3\n",
            "5\n",
            "7\n",
            "11\n",
            "13\n",
            "17\n",
            "19\n",
            "23\n",
            "29\n"
          ]
        }
      ]
    },
    {
      "cell_type": "code",
      "source": [
        "def subNumbers(a,b):\n",
        "  return(a-b)\n",
        "\n",
        "a=90\n",
        "b=80\n",
        "res=subNumbers(a,b)\n",
        "print(\"subNumbers:\",res)"
      ],
      "metadata": {
        "colab": {
          "base_uri": "https://localhost:8080/"
        },
        "id": "3NiAEWHosKn9",
        "outputId": "5bc7d032-6bbc-4550-fe18-04592a538352"
      },
      "execution_count": null,
      "outputs": [
        {
          "output_type": "stream",
          "name": "stdout",
          "text": [
            "subNumbers: 10\n"
          ]
        }
      ]
    },
    {
      "cell_type": "code",
      "source": [
        "# Python program to print first 10 prime numbers\n",
        "\n",
        "# A function name prime is defined\n",
        "# using def\n",
        "def fun(n):\n",
        "    x = 2\n",
        "    count = 0\n",
        "    while count < n:\n",
        "        for d in range(2, int(x ** 0.5) + 1):  # check divisibility only up to sqrt(x)\n",
        "            if x % d == 0:\n",
        "                break  # if divisible, it's not prime, so break the loop\n",
        "        else:\n",
        "            print(x)  # prime number\n",
        "            count += 1\n",
        "        x += 1\n",
        "\n",
        "# Driver Code\n",
        "n = 10\n",
        "\n",
        "fun(n)"
      ],
      "metadata": {
        "colab": {
          "base_uri": "https://localhost:8080/"
        },
        "id": "E352ub7nux5S",
        "outputId": "bf0c0118-3cfc-4cdb-a4e9-4c962284119c"
      },
      "execution_count": null,
      "outputs": [
        {
          "output_type": "stream",
          "name": "stdout",
          "text": [
            "2\n",
            "3\n",
            "5\n",
            "7\n",
            "11\n",
            "13\n",
            "17\n",
            "19\n",
            "23\n",
            "29\n"
          ]
        }
      ]
    },
    {
      "cell_type": "code",
      "source": [
        "# A function that takes another function as an argument\n",
        "def fun(func, arg):\n",
        "    return func(arg)\n",
        "\n",
        "def square(x):\n",
        "    return x ** 2\n",
        "\n",
        "# Calling fun and passing square function as an argument\n",
        "res = fun(square, 5)\n",
        "print(res)\n"
      ],
      "metadata": {
        "colab": {
          "base_uri": "https://localhost:8080/"
        },
        "id": "J3Om1i1Zvk6q",
        "outputId": "e0bbd718-62d9-4555-c4ce-87267e862314"
      },
      "execution_count": null,
      "outputs": [
        {
          "output_type": "stream",
          "name": "stdout",
          "text": [
            "25\n"
          ]
        }
      ]
    },
    {
      "cell_type": "code",
      "source": [
        "def fun(*args):\n",
        "    for arg in args:\n",
        "        print(arg)\n",
        "\n",
        "# Calling the function with multiple arguments\n",
        "fun(1, 2, 3, 4, 5)"
      ],
      "metadata": {
        "colab": {
          "base_uri": "https://localhost:8080/"
        },
        "id": "3HevqJ7AwjQl",
        "outputId": "33e4b21d-1b3e-4fc1-c8d1-b4c21de29f2d"
      },
      "execution_count": null,
      "outputs": [
        {
          "output_type": "stream",
          "name": "stdout",
          "text": [
            "1\n",
            "2\n",
            "3\n",
            "4\n",
            "5\n"
          ]
        }
      ]
    },
    {
      "cell_type": "code",
      "source": [
        "def fun(**kwargs):\n",
        "    for k, val in kwargs.items():\n",
        "        print(f\"{k}: {val}\")\n",
        "\n",
        "# Calling the function with keyword arguments\n",
        "fun(name=\"Alice\", age=30, city=\"New York\")"
      ],
      "metadata": {
        "colab": {
          "base_uri": "https://localhost:8080/"
        },
        "id": "D0B5UdUlxOuT",
        "outputId": "a6f4c39b-ad3c-4e6c-8d61-9a8969d6fa42"
      },
      "execution_count": null,
      "outputs": [
        {
          "output_type": "stream",
          "name": "stdout",
          "text": [
            "name: Alice\n",
            "age: 30\n",
            "city: New York\n"
          ]
        }
      ]
    },
    {
      "cell_type": "code",
      "source": [
        "class Person:\n",
        "    # Constructor to initialize the person's name and age\n",
        "    def __init__(self, name, age):\n",
        "        self.name = name  # Set the name attribute\n",
        "        self.age = age    # Set the age attribute\n",
        "\n",
        "    # Method to print a greeting message\n",
        "    def greet(self):\n",
        "        print(f\"Name - {self.name} and Age - {self.age}.\")\n",
        "\n",
        "# Create an instance of the Person class\n",
        "p1 = Person(\"Alice\", 30)\n",
        "\n",
        "# Call the greet method to display the greeting message\n",
        "p1.greet()"
      ],
      "metadata": {
        "colab": {
          "base_uri": "https://localhost:8080/"
        },
        "id": "xooXIBYkyTJV",
        "outputId": "d355b18f-9f40-4dd4-911b-f299cde34cfe"
      },
      "execution_count": null,
      "outputs": [
        {
          "output_type": "stream",
          "name": "stdout",
          "text": [
            "Name - Alice and Age - 30.\n"
          ]
        }
      ]
    },
    {
      "cell_type": "code",
      "source": [
        "#returning multiple values\n",
        "def fun():\n",
        "    name = \"Alice\"\n",
        "    age = 30\n",
        "    return name, age\n",
        "\n",
        "name, age = fun()\n",
        "print(name)\n",
        "print(age)   # Output: 30"
      ],
      "metadata": {
        "colab": {
          "base_uri": "https://localhost:8080/"
        },
        "id": "dfRhqh8czhXa",
        "outputId": "487155b1-5021-4b23-f659-df43e1d069c7"
      },
      "execution_count": null,
      "outputs": [
        {
          "output_type": "stream",
          "name": "stdout",
          "text": [
            "Alice\n",
            "30\n"
          ]
        }
      ]
    },
    {
      "cell_type": "code",
      "source": [
        "def fun(n):\n",
        "    return [n**2, n**3]\n",
        "\n",
        "res = fun(3)\n",
        "print(res)"
      ],
      "metadata": {
        "id": "OLuTBqbM1Nbl"
      },
      "execution_count": null,
      "outputs": []
    },
    {
      "cell_type": "code",
      "source": [
        "def fun1(msg):\n",
        "    def fun2():\n",
        "        # Using the outer function's message\n",
        "        return f\"Message: {msg}\"\n",
        "    return fun2\n",
        "\n",
        "# Getting the inner function\n",
        "fun3 = fun1(\"Hello, World!\")\n",
        "\n",
        "# Calling the inner function\n",
        "print(fun3())"
      ],
      "metadata": {
        "id": "mhl9u3920Vsh"
      },
      "execution_count": null,
      "outputs": []
    },
    {
      "cell_type": "code",
      "source": [
        "# This function uses global variable s\n",
        "def f():\n",
        "    print(\"Inside Function\", s)\n",
        "\n",
        "# Global scope\n",
        "s = \"I love Geeksforgeeks\"\n",
        "f()\n",
        "print(\"Outside Function\", s)"
      ],
      "metadata": {
        "id": "5fTEQUFB1IHp"
      },
      "execution_count": null,
      "outputs": []
    },
    {
      "cell_type": "code",
      "source": [
        "#recursion function\n",
        "def factorial(n):\n",
        "    if n == 0:\n",
        "        return 1\n",
        "    else:\n",
        "        return n * factorial(n-1)\n",
        "\n",
        "print(factorial(5))"
      ],
      "metadata": {
        "id": "ujFIZ5rj2Par"
      },
      "execution_count": null,
      "outputs": []
    },
    {
      "cell_type": "code",
      "source": [
        "def fibonacci(n):\n",
        "    # Base cases\n",
        "    if n == 0:\n",
        "        return 0\n",
        "    elif n == 1:\n",
        "        return 1\n",
        "    # Recursive case\n",
        "    else:\n",
        "        return fibonacci(n-1) + fibonacci(n-2)\n",
        "\n",
        "# Example usage\n",
        "print(fibonacci(10))"
      ],
      "metadata": {
        "id": "Qacv_UhD2lE1"
      },
      "execution_count": null,
      "outputs": []
    },
    {
      "cell_type": "code",
      "source": [
        "n=int(input(\"enter a num\"))\n",
        "i=1\n",
        "while i<=n:\n",
        "  if n%i == 0:\n",
        "\n",
        "    print(\"values:\",i)\n",
        "  i += 1"
      ],
      "metadata": {
        "colab": {
          "base_uri": "https://localhost:8080/"
        },
        "id": "yNgo0kMzN678",
        "outputId": "47b2e943-5db4-4da3-c3eb-77465298e2de"
      },
      "execution_count": null,
      "outputs": [
        {
          "output_type": "stream",
          "name": "stdout",
          "text": [
            "enter a num10\n",
            "values: 1\n",
            "values: 2\n",
            "values: 5\n",
            "values: 10\n"
          ]
        }
      ]
    },
    {
      "cell_type": "code",
      "source": [
        "#factors\n",
        "n=int(input(\"enter a number\"))\n",
        "for i in range(1,n+1):\n",
        "  if n%i==0:\n",
        "    print(i)"
      ],
      "metadata": {
        "colab": {
          "base_uri": "https://localhost:8080/"
        },
        "id": "z0TKKRJvQ2de",
        "outputId": "c2f8454d-c481-46be-841f-73adff86c68e"
      },
      "execution_count": null,
      "outputs": [
        {
          "output_type": "stream",
          "name": "stdout",
          "text": [
            "enter a number6\n",
            "1\n",
            "2\n",
            "3\n",
            "6\n"
          ]
        }
      ]
    },
    {
      "cell_type": "markdown",
      "source": [
        "#solve any factor program\n",
        "initialization\n",
        "for i in range(1,n+1):\n",
        "    if n%i==0:\n",
        "    logic\n",
        "if check:\n",
        "    print(\"yes\")\n",
        "else:\n",
        "print(\"no)"
      ],
      "metadata": {
        "id": "LKUIow4JRa5g"
      }
    },
    {
      "cell_type": "code",
      "source": [
        "#prime number(1 and itself)\n",
        "n=int(input())\n",
        "count=0\n",
        "for i in range(1,n+1):\n",
        "  if n%i==0:\n",
        "        count +=1\n",
        "\n",
        "if count == 2:\n",
        "  print(\"yes\")\n",
        "else:\n",
        "  print(\"no\")\n",
        "\n",
        "\n"
      ],
      "metadata": {
        "colab": {
          "base_uri": "https://localhost:8080/"
        },
        "id": "dP9ZP1luRDJ0",
        "outputId": "355f824b-0a30-4b00-aefc-70aa94794730"
      },
      "execution_count": null,
      "outputs": [
        {
          "output_type": "stream",
          "name": "stdout",
          "text": [
            "8\n",
            "no\n"
          ]
        }
      ]
    },
    {
      "cell_type": "code",
      "source": [
        "#composite number (more than 2 factors)\n",
        "\n",
        "n=int(input())\n",
        "count=0\n",
        "for i in range(1,n+1):\n",
        "  if n%i==0:\n",
        "        count +=1\n",
        "\n",
        "if count>2:\n",
        "  print(\"yes\")\n",
        "else:\n",
        "  print(\"no\")\n",
        "\n",
        "\n",
        "\n"
      ],
      "metadata": {
        "id": "6vk-Br3yUHtb"
      },
      "execution_count": null,
      "outputs": []
    },
    {
      "cell_type": "code",
      "source": [
        "# Perfect number using while loop\n",
        "n = int(input(\"Enter a number: \"))\n",
        "sum = 0\n",
        "i = 1\n",
        "\n",
        "while i < n:\n",
        "    if n % i == 0:\n",
        "        sum += i\n",
        "    i += 1\n",
        "\n",
        "if sum == n:\n",
        "    print(f\"{n} is a perfect number\")\n",
        "else:\n",
        "    print(f\"{n} is not a perfect number\")\n"
      ],
      "metadata": {
        "id": "0eeYJ9OwUlzt"
      },
      "execution_count": null,
      "outputs": []
    },
    {
      "cell_type": "code",
      "source": [
        "#perfect number\n",
        "n=int(input())\n",
        "sum=0\n",
        "for i in range(1,n):\n",
        "  if n%i==0:\n",
        "        sum +=i\n",
        "\n",
        "if sum==n:\n",
        "  print(\"yes\")\n",
        "else:\n",
        "  print(\"no\")"
      ],
      "metadata": {
        "id": "IK54LP13YBUw",
        "colab": {
          "base_uri": "https://localhost:8080/"
        },
        "outputId": "3244b61c-b759-4f51-8c8d-c13a9479bdec"
      },
      "execution_count": null,
      "outputs": [
        {
          "output_type": "stream",
          "name": "stdout",
          "text": [
            "6\n",
            "yes\n"
          ]
        }
      ]
    },
    {
      "cell_type": "code",
      "source": [
        "#abundant number\n",
        "\n",
        "n=int(input())\n",
        "sum=0\n",
        "for i in range(1,n):\n",
        "  if n%i==0:\n",
        "        sum +=i\n",
        "\n",
        "if sum>n:\n",
        "  print(\"yes\")\n",
        "else:\n",
        "  print(\"no\")"
      ],
      "metadata": {
        "id": "T0PMl7pxZUtE"
      },
      "execution_count": null,
      "outputs": []
    },
    {
      "cell_type": "code",
      "source": [
        "#deficient num(sum of factors is less than the no.itself)\n",
        "#21-fac(1,3,7=11<21)\n",
        "n=int(input())\n",
        "sum=0\n",
        "for i in range(1,n):\n",
        "  if n%i==0:\n",
        "        sum +=i\n",
        "\n",
        "if sum<n:\n",
        "  print(\"yes\")\n",
        "else:\n",
        "  print(\"no\")\n"
      ],
      "metadata": {
        "id": "vF7j0vnVZ56x",
        "colab": {
          "base_uri": "https://localhost:8080/"
        },
        "outputId": "e022e926-53e4-47f5-c4c4-6812a866f173"
      },
      "execution_count": null,
      "outputs": [
        {
          "output_type": "stream",
          "name": "stdout",
          "text": [
            "21\n",
            "yes\n"
          ]
        }
      ]
    },
    {
      "cell_type": "code",
      "source": [
        "# Pronic number (product of two consecutive integers)\n",
        "n = int(input())\n",
        "found = False\n",
        "\n",
        "for i in range(1, n):\n",
        "    if i * (i + 1) == n:\n",
        "        found = True\n",
        "        break\n",
        "\n",
        "if found:\n",
        "    print(\"yes\")\n",
        "else:\n",
        "    print(\"no\")\n"
      ],
      "metadata": {
        "id": "1vt2O5YEadWg",
        "colab": {
          "base_uri": "https://localhost:8080/"
        },
        "outputId": "a159a36d-dfc0-4895-8f40-eb67d0567ee9"
      },
      "execution_count": null,
      "outputs": [
        {
          "output_type": "stream",
          "name": "stdout",
          "text": [
            "56\n",
            "yes\n"
          ]
        }
      ]
    },
    {
      "cell_type": "code",
      "source": [
        "# Pronic number (product of two consecutive integers)\n",
        "n = int(input())\n",
        "found = False\n",
        "\n",
        "for i in range(1, n):\n",
        "    if i * (i + 1) == n:\n",
        "        found = True\n",
        "        print(\"yes\")\n",
        "        print(f\"{i} * {i + 1} = {n}\")\n",
        "        break\n",
        "\n",
        "if not found:\n",
        "    print(\"no\")\n"
      ],
      "metadata": {
        "colab": {
          "base_uri": "https://localhost:8080/"
        },
        "id": "XCxcYk4Df9BW",
        "outputId": "406dac9c-b048-4b7f-ed9f-308ed1384312"
      },
      "execution_count": null,
      "outputs": [
        {
          "output_type": "stream",
          "name": "stdout",
          "text": [
            "56\n",
            "yes\n",
            "7 * 8 = 56\n"
          ]
        }
      ]
    },
    {
      "cell_type": "markdown",
      "source": [
        "**solve any number funtion**"
      ],
      "metadata": {
        "id": "-5sdDMWWhdkK"
      }
    },
    {
      "cell_type": "code",
      "source": [
        " #print all digits of a num on different lines\n",
        " n=268\n",
        " m=n\n",
        " while m!= 0:\n",
        "  d=m%10\n",
        "  print(d)\n",
        "  m=m//10"
      ],
      "metadata": {
        "colab": {
          "base_uri": "https://localhost:8080/"
        },
        "id": "QlE67_arhkLF",
        "outputId": "8584d0eb-4b3e-4db6-e618-984b3e2184aa"
      },
      "execution_count": null,
      "outputs": [
        {
          "output_type": "stream",
          "name": "stdout",
          "text": [
            "8\n",
            "6\n",
            "2\n"
          ]
        }
      ]
    },
    {
      "cell_type": "code",
      "source": [
        "#palindrome\n",
        "n=int(input())\n",
        "temp=n\n",
        "rev=0\n",
        "while n>0:\n",
        "  d=n%10\n",
        "  rev=rev*10+d\n",
        "  n=n//10\n",
        "if temp==rev:\n",
        "  print(\"yes\")"
      ],
      "metadata": {
        "colab": {
          "base_uri": "https://localhost:8080/"
        },
        "id": "4dMrS8Vpj-3C",
        "outputId": "d598a7f9-57ac-4678-dcc7-92e7f3be36ec"
      },
      "execution_count": null,
      "outputs": [
        {
          "output_type": "stream",
          "name": "stdout",
          "text": [
            "121\n",
            "yes\n"
          ]
        }
      ]
    },
    {
      "cell_type": "code",
      "source": [
        "n=input()\n",
        "if n==n[::-1]:\n",
        "  print(n)"
      ],
      "metadata": {
        "colab": {
          "base_uri": "https://localhost:8080/"
        },
        "id": "_S-ubkzikBXj",
        "outputId": "2e868dc4-c26a-4129-a4ae-29252a038d2d"
      },
      "execution_count": null,
      "outputs": [
        {
          "output_type": "stream",
          "name": "stdout",
          "text": [
            "mam\n",
            "mam\n"
          ]
        }
      ]
    },
    {
      "cell_type": "markdown",
      "source": [
        "**program template**\n",
        "m=n\n",
        "initialization\n",
        "while m!=0:\n",
        "    d=m%10\n",
        "    logic\n",
        "    m=m//10\n",
        "if check\n",
        "    print(\"yes\")\n",
        "else:\n",
        "    print(\"no\")"
      ],
      "metadata": {
        "id": "Urc3gKucnSNi"
      }
    },
    {
      "cell_type": "code",
      "source": [
        "#spy number(sum of digits = product of digits 123 1+2+3=1*2*3)\n",
        "n=123\n",
        "m=n\n",
        "\n",
        "sum=0\n",
        "prod=1\n",
        "while m!=0:\n",
        "    d=m%10\n",
        "    sum=sum+d\n",
        "    prod=prod*d\n",
        "    m=m//10\n",
        "if sum==prod:\n",
        "    print(\"yes\")\n",
        "else:\n",
        "    print(\"no\")"
      ],
      "metadata": {
        "colab": {
          "base_uri": "https://localhost:8080/"
        },
        "id": "c56TUULaoDyU",
        "outputId": "bd793ed3-dd45-4576-d486-f8284e166cff"
      },
      "execution_count": null,
      "outputs": [
        {
          "output_type": "stream",
          "name": "stdout",
          "text": [
            "yes\n"
          ]
        }
      ]
    },
    {
      "cell_type": "code",
      "source": [
        "#special number(59=5+9+5*9)\n",
        "n=59\n",
        "m=n\n",
        "sum=0\n",
        "prod=1\n",
        "while m!=0:\n",
        "    d=m%10\n",
        "    sum=sum+d\n",
        "    prod=prod*d\n",
        "    m=m//10\n",
        "if (sum+prod) == n:\n",
        "    print(\"yes\")\n",
        "else:\n",
        "    print(\"no\")"
      ],
      "metadata": {
        "colab": {
          "base_uri": "https://localhost:8080/"
        },
        "id": "Aqqp8G6mpEEw",
        "outputId": "2022b31d-86c1-45fa-98c4-ca02bf0c8c1d"
      },
      "execution_count": null,
      "outputs": [
        {
          "output_type": "stream",
          "name": "stdout",
          "text": [
            "yes\n"
          ]
        }
      ]
    },
    {
      "cell_type": "code",
      "source": [
        "#harshad number/niven-num which is divisible by sumof its digit -156=1+5+6=12\n",
        "n=156\n",
        "m=n\n",
        "sum=0\n",
        "\n",
        "while m!=0:\n",
        "    d=m%10\n",
        "    sum=sum+d\n",
        "\n",
        "    m=m//10\n",
        "if m%sum==0:\n",
        "    print(\"yes\")\n",
        "else:\n",
        "    print(\"no\")"
      ],
      "metadata": {
        "colab": {
          "base_uri": "https://localhost:8080/"
        },
        "id": "VDbVxTc4rH1O",
        "outputId": "f16fcb0c-1bef-414c-b293-acdca0b1d985"
      },
      "execution_count": null,
      "outputs": [
        {
          "output_type": "stream",
          "name": "stdout",
          "text": [
            "yes\n"
          ]
        }
      ]
    },
    {
      "cell_type": "code",
      "source": [
        "#duck num-num which has 0's present in it -402,280\n",
        "n=400002\n",
        "m=n\n",
        "count=0\n",
        "while m!=0:\n",
        "    d=m%10\n",
        "    if d==0:\n",
        "        count+=1\n",
        "        print(count)\n",
        "    m=m//10\n",
        "if count>0:\n",
        "    print(\"yes\")\n",
        "else:\n",
        "    print(\"no\")\n"
      ],
      "metadata": {
        "colab": {
          "base_uri": "https://localhost:8080/"
        },
        "id": "CZdt_Sq6sYVM",
        "outputId": "c018437b-eb85-41b6-8187-85e7aa23415f"
      },
      "execution_count": null,
      "outputs": [
        {
          "output_type": "stream",
          "name": "stdout",
          "text": [
            "1\n",
            "2\n",
            "3\n",
            "4\n",
            "yes\n"
          ]
        }
      ]
    },
    {
      "cell_type": "code",
      "source": [
        "#neon number-sum of digits of square of num = num 9*9=81,9=8+1\n",
        "n=9\n",
        "m=n\n",
        "sum=0\n",
        "m=n*n\n",
        "while m!=0:\n",
        "    d=m%10\n",
        "    sum=sum+d\n",
        "    print(sum)\n",
        "\n",
        "    m=m//10\n",
        "\n",
        "if sum==n:\n",
        "    print(\"yes\")\n",
        "else:\n",
        "    print(\"no\")"
      ],
      "metadata": {
        "colab": {
          "base_uri": "https://localhost:8080/"
        },
        "id": "4rvT1NmgtW6z",
        "outputId": "173ae9f5-4570-4b86-d964-0b26eff2980c"
      },
      "execution_count": null,
      "outputs": [
        {
          "output_type": "stream",
          "name": "stdout",
          "text": [
            "1\n",
            "9\n",
            "yes\n"
          ]
        }
      ]
    },
    {
      "cell_type": "code",
      "metadata": {
        "id": "6e17d076"
      },
      "source": [
        "# Example using copy()\n",
        "my_set = {1, 2, 3, 4}\n",
        "copied_set = my_set.copy()\n",
        "print(\"Original set:\", my_set)\n",
        "print(\"Copied set:\", copied_set)\n",
        "\n",
        "# Example using clear()\n",
        "my_set.clear()\n",
        "print(\"Set after clear():\", my_set)\n",
        "\n",
        "# Example using update()\n",
        "set1 = {1, 2, 3}\n",
        "set2 = {3, 4, 5}\n",
        "set1.update(set2)\n",
        "print(\"Set1 after update(set2):\", set1)\n",
        "\n",
        "set3 = {6, 7}\n",
        "set1.update(set3, {8, 9}) # update with multiple iterables\n",
        "print(\"Set1 after update with multiple iterables:\", set1)"
      ],
      "execution_count": null,
      "outputs": []
    },
    {
      "cell_type": "code",
      "source": [
        "#each crate hold 12 bottles\n",
        "n=int(input())\n",
        "crate_hold=12\n",
        "full_crate=n//crate_hold\n",
        "left_over=n%crate_hold\n",
        "print(\"Full crates:\",full_crate)\n",
        "print(\"Leftover bottles:\",left_over)"
      ],
      "metadata": {
        "colab": {
          "base_uri": "https://localhost:8080/"
        },
        "id": "Qqkjw5dvEIVh",
        "outputId": "6e5f9460-3897-42e4-8366-3cb528a83bb4"
      },
      "execution_count": null,
      "outputs": [
        {
          "output_type": "stream",
          "name": "stdout",
          "text": [
            "140\n",
            "Full crates: 11\n",
            "Leftover bottles: 8\n"
          ]
        }
      ]
    },
    {
      "cell_type": "code",
      "source": [
        "#display sum of 2 integers\n",
        "a,b=map(int,input().split())\n",
        "print(a+b)"
      ],
      "metadata": {
        "colab": {
          "base_uri": "https://localhost:8080/"
        },
        "id": "zu3EE9T4HGO7",
        "outputId": "5f3198ce-230d-4731-8ffd-f1266b73e330"
      },
      "execution_count": null,
      "outputs": [
        {
          "output_type": "stream",
          "name": "stdout",
          "text": [
            "5 7\n",
            "12\n"
          ]
        }
      ]
    },
    {
      "cell_type": "code",
      "source": [
        "#ditributee n chocolates among 4 friends\n",
        "n=int(input())\n",
        "d=n%4\n",
        "e=n//4\n",
        "print(\"Each friend gets:\",e)\n",
        "print(\"Leftover chocolates:\",d)\n"
      ],
      "metadata": {
        "colab": {
          "base_uri": "https://localhost:8080/"
        },
        "id": "ITAQtEDIHUt_",
        "outputId": "8009f4af-b05b-43a8-a2d2-a710c5caa3c8"
      },
      "execution_count": null,
      "outputs": [
        {
          "output_type": "stream",
          "name": "stdout",
          "text": [
            "160\n",
            "Each friend gets: 40\n",
            "Leftover chocolates: 0\n"
          ]
        }
      ]
    },
    {
      "cell_type": "code",
      "source": [
        "#eleveter 500kg,give total ppl and weigths if exceeds 500kg overload otherwise safe\n",
        "n=int(input())\n",
        "weigths=list(map(int,input().split()))\n",
        "total_weigths=sum(weigths)\n",
        "if total_weigths>500:\n",
        "  print(\"Total weigths:\",total_weigths)\n",
        "  print(\"Overload\")\n",
        "else:\n",
        "  print(\" \")\n",
        "  print(\"Safe\")"
      ],
      "metadata": {
        "colab": {
          "base_uri": "https://localhost:8080/"
        },
        "id": "5cMOGDH9Jj6N",
        "outputId": "9aa7fb0c-4124-4af0-a6d3-745677894c48"
      },
      "execution_count": null,
      "outputs": [
        {
          "output_type": "stream",
          "name": "stdout",
          "text": [
            "18\n",
            "50 56 82 8 31 82 66 32 93 23 66 83 99 8 47 86 61 85\n",
            "Total weigths: 1058\n",
            "Overload\n"
          ]
        }
      ]
    },
    {
      "cell_type": "code",
      "source": [
        "#lcm of two numbers\n",
        "a,b=map(int,input().split())\n",
        "lcm=max(a,b)\n",
        "while True:\n",
        "  if lcm%a==0 and lcm%b==0:\n",
        "    print(\"LCM:\",lcm)\n",
        "    break\n",
        "  lcm+=1"
      ],
      "metadata": {
        "colab": {
          "base_uri": "https://localhost:8080/"
        },
        "id": "_YXh1CeQqlnf",
        "outputId": "e1e1c7f4-fbd1-4ef3-d928-7feef27105be"
      },
      "execution_count": null,
      "outputs": [
        {
          "output_type": "stream",
          "name": "stdout",
          "text": [
            "12 18\n",
            "LCM: 36\n"
          ]
        }
      ]
    },
    {
      "cell_type": "code",
      "source": [
        "#xmins with speed of y m/sec d in km?\n",
        "x=int(input())\n",
        "s=int(input())\n",
        "t=x*60\n",
        "d=s*t\n",
        "km=d//1000\n",
        "print(km,\"Km\")\n"
      ],
      "metadata": {
        "colab": {
          "base_uri": "https://localhost:8080/"
        },
        "id": "lfj_Mt9RrCuB",
        "outputId": "eda4a879-19b0-4a95-acc5-868f22b4e322"
      },
      "execution_count": null,
      "outputs": [
        {
          "name": "stdout",
          "output_type": "stream",
          "text": [
            "20\n"
          ]
        }
      ]
    },
    {
      "cell_type": "code",
      "source": [
        "#call by value:\n",
        "def modify(x):\n",
        "  x=x+4\n",
        "  print(\"inside funtion\",x)\n",
        "a=20\n",
        "modify(a)\n",
        "print(\"outside funtion\",a)"
      ],
      "metadata": {
        "colab": {
          "base_uri": "https://localhost:8080/"
        },
        "id": "YEg94RMlXlW5",
        "outputId": "b09776d3-e1ad-44a5-bc66-0312c62e2de3"
      },
      "execution_count": null,
      "outputs": [
        {
          "output_type": "stream",
          "name": "stdout",
          "text": [
            "inside funtion 24\n",
            "outside funtion 20\n"
          ]
        }
      ]
    },
    {
      "cell_type": "code",
      "source": [
        "#call by reference\n",
        "def add_item(my_list):\n",
        "  my_list.append(99)\n",
        "  print(\"inside\",my_list)\n",
        "\n",
        "numbers=[1,2,3,4,8]\n",
        "add_item(numbers)\n",
        "print(\"outside\",numbers)\n"
      ],
      "metadata": {
        "colab": {
          "base_uri": "https://localhost:8080/"
        },
        "id": "PClxKIesYISG",
        "outputId": "8942a73c-f2af-43bd-b8f8-86d05ff99350"
      },
      "execution_count": null,
      "outputs": [
        {
          "output_type": "stream",
          "name": "stdout",
          "text": [
            "inside [1, 2, 3, 4, 8, 99]\n",
            "outside [1, 2, 3, 4, 8, 99]\n"
          ]
        }
      ]
    },
    {
      "cell_type": "code",
      "source": [
        "#lambda\n",
        "add=lambda x,y:x+y\n",
        "print(add(10,20))\n",
        "\n",
        "#no arguments\n",
        "greet=lambda:\"hello\"\n",
        "print(greet())\n",
        "\n",
        "#one argument\n",
        "square=lambda x:x*x\n",
        "print(square(5))\n",
        "\n",
        "#USING MAP\n",
        "n=[1,2,3,4]\n",
        "square=list(map(lambda x:x*x,n))\n",
        "print(square)\n",
        "\n",
        "#convert to upper case\n",
        "name=['hi',\"hlo\",\"dwfe\"]\n",
        "upper=list(map(str.upper,name))\n",
        "print(upper)\n",
        "#convert to upper case\n",
        "name=['hi',\"hlo\",\"dwfe\"]\n",
        "upper=list(map(lambda x:x.upper(),name))\n",
        "print(upper)"
      ],
      "metadata": {
        "colab": {
          "base_uri": "https://localhost:8080/"
        },
        "id": "pVz4UIxydCCq",
        "outputId": "fc19cdfe-4219-4115-a38d-89eb44246926"
      },
      "execution_count": null,
      "outputs": [
        {
          "output_type": "stream",
          "name": "stdout",
          "text": [
            "30\n",
            "hello\n",
            "25\n",
            "[1, 4, 9, 16]\n",
            "['HI', 'HLO', 'DWFE']\n",
            "['HI', 'HLO', 'DWFE']\n"
          ]
        }
      ]
    },
    {
      "cell_type": "code",
      "source": [
        "#multiples of 3 using lambda\n",
        "n=int(input())\n",
        "multiple=list(filter(lambda x:x%3==0,range(1,n+1)))\n",
        "print(*multiple)"
      ],
      "metadata": {
        "colab": {
          "base_uri": "https://localhost:8080/"
        },
        "id": "s_V6VBtdi5hy",
        "outputId": "eb1d6200-c3ef-41ad-856a-5560a618f845"
      },
      "execution_count": null,
      "outputs": [
        {
          "output_type": "stream",
          "name": "stdout",
          "text": [
            "10\n",
            "3 6 9\n"
          ]
        }
      ]
    },
    {
      "cell_type": "code",
      "source": [
        "#local scope\n",
        "def hi():\n",
        "  name=\"anu\"\n",
        "  print(\"hello\",name)\n",
        "hi()\n",
        "#print(name) x error:name not  defined\n",
        "\n",
        "\n",
        "\n",
        "#global scope\n",
        "x=10\n",
        "def show():\n",
        "  print(x)\n",
        "show()\n",
        "print(x)"
      ],
      "metadata": {
        "colab": {
          "base_uri": "https://localhost:8080/"
        },
        "id": "6g4o5mUeg_gP",
        "outputId": "fa0557f6-af72-402f-9b79-6955d13b3e71"
      },
      "execution_count": null,
      "outputs": [
        {
          "output_type": "stream",
          "name": "stdout",
          "text": [
            "hello anu\n",
            "10\n",
            "10\n"
          ]
        }
      ]
    },
    {
      "cell_type": "code",
      "source": [
        "#enclosed scope (nonlocal) var in a nested (inner)function that refers to variable in the out fun use nonlocal to modify it\n",
        "def outer():\n",
        "  x=10\n",
        "  def inner():\n",
        "    nonlocal x\n",
        "    x+=5\n",
        "    print(\"inner\",x)\n",
        "  inner()\n",
        "  print(\"outer\",x)\n",
        "outer()\n",
        "\n"
      ],
      "metadata": {
        "colab": {
          "base_uri": "https://localhost:8080/"
        },
        "id": "WFAbGepkfY1i",
        "outputId": "5ce78a8e-6d55-4a4f-ef33-1196743845f2"
      },
      "execution_count": null,
      "outputs": [
        {
          "output_type": "stream",
          "name": "stdout",
          "text": [
            "inner 15\n",
            "outer 15\n"
          ]
        }
      ]
    },
    {
      "cell_type": "code",
      "source": [
        "#builtin scope is the outermost scope containing names predifined by python\n",
        "x=[1,2,3,4,5]\n",
        "\n",
        "print(len(x))\n",
        "print(max(x))\n",
        "print(sum(x))"
      ],
      "metadata": {
        "colab": {
          "base_uri": "https://localhost:8080/"
        },
        "id": "Z2wfcUOHhv7H",
        "outputId": "e739a136-ab4d-483b-fe66-15fec0967e52"
      },
      "execution_count": null,
      "outputs": [
        {
          "output_type": "stream",
          "name": "stdout",
          "text": [
            "5\n",
            "5\n",
            "15\n"
          ]
        }
      ]
    },
    {
      "cell_type": "code",
      "source": [
        "def greet(*args):\n",
        "  for name in args:\n",
        "    print(\"hello\",name)\n",
        "greet(\"hi\",\"anu\",\"dddd\")\n",
        "\n",
        "\n",
        "def show(*args):\n",
        "  print(args)\n",
        "  for i in args:\n",
        "    print(i)\n",
        "show(1,2,3,4,5)\n"
      ],
      "metadata": {
        "colab": {
          "base_uri": "https://localhost:8080/"
        },
        "id": "q3WD-9EXjMiw",
        "outputId": "8a91cfd4-d624-4377-e395-49124a6b12d0"
      },
      "execution_count": null,
      "outputs": [
        {
          "output_type": "stream",
          "name": "stdout",
          "text": [
            "hello hi\n",
            "hello anu\n",
            "hello dddd\n",
            "(1, 2, 3, 4, 5)\n",
            "1\n",
            "2\n",
            "3\n",
            "4\n",
            "5\n"
          ]
        }
      ]
    },
    {
      "cell_type": "code",
      "source": [
        "\n",
        "def show(*args):\n",
        "  for item in args:\n",
        "    print(item)\n",
        "  # data=[1,2,3,4,5]\n",
        "show(1,2,3,4,9,5,4,)"
      ],
      "metadata": {
        "colab": {
          "base_uri": "https://localhost:8080/"
        },
        "id": "ONERN2xGnJd4",
        "outputId": "ed5b5f21-57eb-44a4-d783-521e54f2c831"
      },
      "execution_count": null,
      "outputs": [
        {
          "output_type": "stream",
          "name": "stdout",
          "text": [
            "1\n",
            "2\n",
            "3\n",
            "4\n",
            "9\n",
            "5\n",
            "4\n"
          ]
        }
      ]
    },
    {
      "cell_type": "code",
      "source": [
        "def student(**kwargs):\n",
        "  print(kwargs)\n",
        "student(name=\"znu\",rol=29)"
      ],
      "metadata": {
        "colab": {
          "base_uri": "https://localhost:8080/"
        },
        "id": "i0QAtLYtnR9q",
        "outputId": "b6dace03-2638-4e62-9be2-909f98698cfc"
      },
      "execution_count": null,
      "outputs": [
        {
          "output_type": "stream",
          "name": "stdout",
          "text": [
            "{'name': 'znu', 'rol': 29}\n"
          ]
        }
      ]
    },
    {
      "cell_type": "code",
      "source": [],
      "metadata": {
        "id": "o9qGYHCBBgdj"
      },
      "execution_count": null,
      "outputs": []
    }
  ]
}