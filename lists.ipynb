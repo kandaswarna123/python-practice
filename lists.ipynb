{
  "nbformat": 4,
  "nbformat_minor": 0,
  "metadata": {
    "colab": {
      "provenance": [],
      "authorship_tag": "ABX9TyN4fkNQXIdlTHNNcQ9XJlAk",
      "include_colab_link": true
    },
    "kernelspec": {
      "name": "python3",
      "display_name": "Python 3"
    },
    "language_info": {
      "name": "python"
    }
  },
  "cells": [
    {
      "cell_type": "markdown",
      "metadata": {
        "id": "view-in-github",
        "colab_type": "text"
      },
      "source": [
        "<a href=\"https://colab.research.google.com/github/kandaswarna123/python-practice/blob/main/lists.ipynb\" target=\"_parent\"><img src=\"https://colab.research.google.com/assets/colab-badge.svg\" alt=\"Open In Colab\"/></a>"
      ]
    },
    {
      "cell_type": "code",
      "execution_count": null,
      "metadata": {
        "colab": {
          "base_uri": "https://localhost:8080/"
        },
        "id": "FNwI2Flkc_eD",
        "outputId": "d101bd44-99c7-47c0-cb56-fd879dca5b68"
      },
      "outputs": [
        {
          "output_type": "stream",
          "name": "stdout",
          "text": [
            "[10, 20, 30]\n",
            "<class 'list'>\n",
            "20\n",
            "[10, 50, 30]\n",
            "[23, 6]\n",
            "[1, 2, 3, 4, 5, 6, 7, 8, 9, [10, 11]]\n",
            "[1, 2, 3, 4, 5, 6, 7, 8, 9, [10, 11], 10, 11]\n",
            "[1, 13, 2, 3, 4, 5, 6, 7, 8, 9, [10, 11], 10, 11]\n",
            "[1, 13, 2, 3, 5, 6, 7, 8, 9, [10, 11], 10, 11]\n",
            "3\n",
            "[1, 13, 2, 3, 5, 6, 7, 8, 9, [10, 11], 10]\n",
            "1\n",
            "[2, 4, 5, 5, 7, 8]\n",
            "None\n",
            "[10, [10, 11], 9, 8, 7, 6, 5, 3, 2, 13, 1]\n",
            "[]\n"
          ]
        }
      ],
      "source": [
        "#list-ordered mutable and allows duplicates it use []\n",
        "#indexing you access elements of a list using their position\n",
        "\n",
        "list=[10,20,30]\n",
        "print(list)\n",
        "print(type(list))#type\n",
        "\n",
        "#indexing\n",
        "print(list[1])\n",
        "list[1]=50\n",
        "print(list)\n",
        "\n",
        "#slicing-is a way to extract a portion(sublist)froma list\n",
        "#syntax -list[start:stop:step]\n",
        "\n",
        "list=[1,23,4,5,6,7,8]\n",
        "print(list[1:7:3])\n",
        "\n",
        "list=[1,2,3,4,5,6,7,8,9]\n",
        "list.append([10,11])#append\n",
        "print(list)\n",
        "\n",
        "list.extend([10,11])#extend  individual\n",
        "print(list)\n",
        "\n",
        "\n",
        "list.insert(1,13)\n",
        "print(list)\n",
        "\n",
        "list.remove(4)#remove\n",
        "print(list)\n",
        "\n",
        "x= list.index(3)\n",
        "print(x)\n",
        "\n",
        "list.pop()#remove last element\n",
        "print(list)\n",
        "\n",
        "x=list.count(1)\n",
        "print(x)\n",
        "\n",
        "\n",
        "a=[4,5,2,5,7,8]\n",
        "a.sort()\n",
        "print(a)\n",
        "\n",
        "print(list.reverse())\n",
        "\n",
        "x=list.copy()\n",
        "print(x)\n",
        "\n",
        "list.clear()\n",
        "print(list)\n",
        "\n",
        "\n",
        "\n",
        "\n",
        "\n",
        "\n",
        "\n"
      ]
    },
    {
      "cell_type": "code",
      "source": [
        "a=[0,1,2,3,4,5,6,7,8,9]\n",
        "print(a[-7:-2:2])\n",
        "print(a[5:1:-1])\n",
        "print(a[::2][1:])\n",
        "print(a[-100:3])\n",
        "print(a[::-2])\n"
      ],
      "metadata": {
        "colab": {
          "base_uri": "https://localhost:8080/"
        },
        "id": "mSmsY_E1tVCx",
        "outputId": "179a4cf8-a26e-4026-b8dc-85c8c7d43efc"
      },
      "execution_count": null,
      "outputs": [
        {
          "output_type": "stream",
          "name": "stdout",
          "text": [
            "[3, 5, 7]\n",
            "[5, 4, 3, 2]\n",
            "[2, 4, 6, 8]\n",
            "[0, 1, 2]\n",
            "[9, 7, 5, 3, 1]\n"
          ]
        }
      ]
    },
    {
      "cell_type": "code",
      "source": [
        "#add elements to a list\n",
        "fruits = ['apple', 'banana', 'cherry']\n",
        "fruits.append('orange')\n",
        "print(fruits)"
      ],
      "metadata": {
        "colab": {
          "base_uri": "https://localhost:8080/"
        },
        "id": "V6gbs-T4wveL",
        "outputId": "6cefe5e6-a453-45c9-9ff3-caa4e8634f7b"
      },
      "execution_count": null,
      "outputs": [
        {
          "output_type": "stream",
          "name": "stdout",
          "text": [
            "['apple', 'banana', 'cherry', 'orange']\n"
          ]
        }
      ]
    },
    {
      "cell_type": "code",
      "source": [
        "#add element to a specific position\n",
        "fruits = ['apple', 'banana', 'cherry']\n",
        "fruits.insert(1, 'orange')\n",
        "print(fruits)\n"
      ],
      "metadata": {
        "colab": {
          "base_uri": "https://localhost:8080/"
        },
        "id": "j6syrzOXw3Hw",
        "outputId": "b244eeba-201e-4a73-9845-94e8f36ce512"
      },
      "execution_count": null,
      "outputs": [
        {
          "output_type": "stream",
          "name": "stdout",
          "text": [
            "['apple', 'orange', 'banana', 'cherry']\n"
          ]
        }
      ]
    },
    {
      "cell_type": "code",
      "source": [
        "#delete a specific element\n",
        "fruits = ['apple', 'banana', 'cherry']\n",
        "fruits.remove('banana')\n",
        "print(fruits)"
      ],
      "metadata": {
        "colab": {
          "base_uri": "https://localhost:8080/"
        },
        "id": "1VC7W3C4xEDK",
        "outputId": "8ffc56cd-7e75-45dc-9af3-1add65ed13b2"
      },
      "execution_count": null,
      "outputs": [
        {
          "output_type": "stream",
          "name": "stdout",
          "text": [
            "['apple', 'cherry']\n"
          ]
        }
      ]
    },
    {
      "cell_type": "code",
      "source": [
        "#sort elements in ascending order\n",
        "a=[0,3,2,5,6,7,8,3,4,2]\n",
        "x=sorted(a)\n",
        "print(x)"
      ],
      "metadata": {
        "colab": {
          "base_uri": "https://localhost:8080/"
        },
        "id": "ElfoHv7-xJ9j",
        "outputId": "af3801ab-f7f3-4f1a-b53d-6fe387203d07"
      },
      "execution_count": null,
      "outputs": [
        {
          "output_type": "stream",
          "name": "stdout",
          "text": [
            "[0, 2, 2, 3, 3, 4, 5, 6, 7, 8]\n"
          ]
        }
      ]
    },
    {
      "cell_type": "code",
      "source": [
        "#separate even and odd numbers\n",
        "a=[0,1,2,3,4,5,6,7,8,9]\n",
        "even=[]\n",
        "odd=[]\n",
        "for i in a:\n",
        "    if i%2==0:\n",
        "        even.append(i)\n",
        "    else:\n",
        "        odd.append(i)\n",
        "print(even)\n",
        "print(odd)"
      ],
      "metadata": {
        "colab": {
          "base_uri": "https://localhost:8080/"
        },
        "id": "Os519ka0xu7h",
        "outputId": "a93fb4e6-fe42-4759-f09c-99af4762ea40"
      },
      "execution_count": null,
      "outputs": [
        {
          "output_type": "stream",
          "name": "stdout",
          "text": [
            "[0, 2, 4, 6, 8]\n",
            "[1, 3, 5, 7, 9]\n"
          ]
        }
      ]
    },
    {
      "cell_type": "code",
      "source": [
        "#password check using list\n",
        "password=input(\"enter password:\")\n",
        "\n",
        "\n",
        "a=[\"hello\",\"swarna\",\"bye\"]\n",
        "if password in a:\n",
        "    print(\"correct password\")\n",
        "else:\n",
        "    print(\"incorrect password\")\n"
      ],
      "metadata": {
        "colab": {
          "base_uri": "https://localhost:8080/"
        },
        "id": "YuK8vZRLx52t",
        "outputId": "ee54c75e-32b7-40b8-bcd1-8f0ab6a31b8c"
      },
      "execution_count": null,
      "outputs": [
        {
          "output_type": "stream",
          "name": "stdout",
          "text": [
            "enter password:swarna\n",
            "correct password\n"
          ]
        }
      ]
    },
    {
      "cell_type": "code",
      "source": [
        "#sum of list elements\n",
        "n=list(map(int,input().split()))\n",
        "print(sum(n))"
      ],
      "metadata": {
        "colab": {
          "base_uri": "https://localhost:8080/"
        },
        "id": "FdZLMrDkDzo1",
        "outputId": "4a0adbc6-49b2-4520-dba6-5c5b4021b9a3"
      },
      "execution_count": null,
      "outputs": [
        {
          "output_type": "stream",
          "name": "stdout",
          "text": [
            "2 3 4\n",
            "9\n"
          ]
        }
      ]
    },
    {
      "cell_type": "code",
      "source": [
        "#convert list to tuple\n",
        "n=list(map(int,input().split()))\n",
        "print(tuple(n))"
      ],
      "metadata": {
        "colab": {
          "base_uri": "https://localhost:8080/"
        },
        "id": "wANy2qiXExfA",
        "outputId": "7c002ff8-9e47-4a05-85df-be1f93944744"
      },
      "execution_count": null,
      "outputs": [
        {
          "output_type": "stream",
          "name": "stdout",
          "text": [
            "2 3 4 5 \n",
            "(2, 3, 4, 5)\n"
          ]
        }
      ]
    },
    {
      "cell_type": "code",
      "source": [
        "#find  max and min number in tuple\n",
        "n=tuple(map(int,input().split()))\n",
        "print(max(n),min(n))"
      ],
      "metadata": {
        "colab": {
          "base_uri": "https://localhost:8080/"
        },
        "id": "f_eutYc5ETQ7",
        "outputId": "43ab0352-e8fd-480a-e22a-5824d894e2ca"
      },
      "execution_count": null,
      "outputs": [
        {
          "output_type": "stream",
          "name": "stdout",
          "text": [
            "2 4 5 6 1 5 7 8\n",
            "8 1\n"
          ]
        }
      ]
    },
    {
      "cell_type": "code",
      "source": [
        "n=tuple(map(int,input().split()))\n",
        "print(n.count(3))"
      ],
      "metadata": {
        "colab": {
          "base_uri": "https://localhost:8080/"
        },
        "id": "99CryBtPE6xN",
        "outputId": "8564a883-5466-4c80-e790-a19f9b13032e"
      },
      "execution_count": null,
      "outputs": [
        {
          "output_type": "stream",
          "name": "stdout",
          "text": [
            "2 3 4 4 4 3  2 5 3 5 6 \n",
            "3\n"
          ]
        }
      ]
    },
    {
      "cell_type": "code",
      "source": [
        "a=[1,2,3]\n",
        "b=a\n",
        "b.append(4)\n",
        "print(a)"
      ],
      "metadata": {
        "colab": {
          "base_uri": "https://localhost:8080/"
        },
        "id": "ii5t3_31FRHW",
        "outputId": "a6066da0-176c-415e-932c-d74831654e73"
      },
      "execution_count": null,
      "outputs": [
        {
          "output_type": "stream",
          "name": "stdout",
          "text": [
            "[1, 2, 3, 4]\n"
          ]
        }
      ]
    },
    {
      "cell_type": "code",
      "source": [
        "x=[1,2,3]\n",
        "y=x[:]\n",
        "y[0]=100\n",
        "print(x)"
      ],
      "metadata": {
        "colab": {
          "base_uri": "https://localhost:8080/"
        },
        "id": "ZqEr9ki_Fp5o",
        "outputId": "585ba5df-7845-4125-a1c3-f6d0e2a48fff"
      },
      "execution_count": null,
      "outputs": [
        {
          "output_type": "stream",
          "name": "stdout",
          "text": [
            "[1, 2, 3]\n"
          ]
        }
      ]
    },
    {
      "cell_type": "code",
      "source": [
        "tuple(\"hello\")\n"
      ],
      "metadata": {
        "colab": {
          "base_uri": "https://localhost:8080/"
        },
        "id": "Qn9VSatTGnz7",
        "outputId": "27e15f03-3f58-42cd-db57-e9045ede46c7"
      },
      "execution_count": null,
      "outputs": [
        {
          "output_type": "execute_result",
          "data": {
            "text/plain": [
              "('h', 'e', 'l', 'l', 'o')"
            ]
          },
          "metadata": {},
          "execution_count": 8
        }
      ]
    },
    {
      "cell_type": "code",
      "source": [
        "l=[1,2,3,4,5]\n",
        "print(l[1:4])"
      ],
      "metadata": {
        "colab": {
          "base_uri": "https://localhost:8080/"
        },
        "id": "K46XrnbjHWOq",
        "outputId": "ece28a34-a75a-47bd-d473-b54b647293f8"
      },
      "execution_count": null,
      "outputs": [
        {
          "output_type": "stream",
          "name": "stdout",
          "text": [
            "[2, 3, 4]\n"
          ]
        }
      ]
    },
    {
      "cell_type": "code",
      "source": [
        "l=[i for i in range(5)]\n",
        "l[2:4]=[10,11,12]\n",
        "print(l)"
      ],
      "metadata": {
        "id": "SVQRMpj7Mkfz",
        "colab": {
          "base_uri": "https://localhost:8080/"
        },
        "outputId": "813d6113-f45c-4e19-ec64-4819b77dfd9b"
      },
      "execution_count": 11,
      "outputs": [
        {
          "output_type": "stream",
          "name": "stdout",
          "text": [
            "[0, 1, 10, 11, 12, 4]\n"
          ]
        }
      ]
    },
    {
      "cell_type": "code",
      "source": [
        "hash(1)"
      ],
      "metadata": {
        "colab": {
          "base_uri": "https://localhost:8080/"
        },
        "id": "mC1R0gRvNkWj",
        "outputId": "310739cf-7da7-442f-85f0-90f045ffc528"
      },
      "execution_count": 13,
      "outputs": [
        {
          "output_type": "execute_result",
          "data": {
            "text/plain": [
              "1"
            ]
          },
          "metadata": {},
          "execution_count": 13
        }
      ]
    },
    {
      "cell_type": "code",
      "source": [
        "f=[\"apple\",\"bannana\"]\n",
        "t=tuple(f)\n",
        "print(t)\n"
      ],
      "metadata": {
        "colab": {
          "base_uri": "https://localhost:8080/"
        },
        "id": "dnqRDO5bOKOh",
        "outputId": "d24a19b1-4009-4f21-bf84-20a75e38ab61"
      },
      "execution_count": 14,
      "outputs": [
        {
          "output_type": "stream",
          "name": "stdout",
          "text": [
            "('apple', 'bannana')\n"
          ]
        }
      ]
    },
    {
      "cell_type": "code",
      "source": [
        "#remove dublicates from list\n",
        "n=[1,2,3,4,5,6,3,5,2,4,5,53,4]\n",
        "print(set(n))"
      ],
      "metadata": {
        "colab": {
          "base_uri": "https://localhost:8080/"
        },
        "id": "u6VsDQqWPBB_",
        "outputId": "bf4aec1a-4fb2-4953-cf6a-589fdb34e04b"
      },
      "execution_count": 15,
      "outputs": [
        {
          "output_type": "stream",
          "name": "stdout",
          "text": [
            "{1, 2, 3, 4, 5, 6, 53}\n"
          ]
        }
      ]
    },
    {
      "cell_type": "code",
      "source": [
        "#tuple of squres of list\n",
        "n=[1,2,3,4,5]\n",
        "print(tuple(i**2 for i in n))\n"
      ],
      "metadata": {
        "colab": {
          "base_uri": "https://localhost:8080/"
        },
        "id": "egep89taPRQU",
        "outputId": "f3dec2c1-29ea-4b2b-cd0d-25b628bc347d"
      },
      "execution_count": 16,
      "outputs": [
        {
          "output_type": "stream",
          "name": "stdout",
          "text": [
            "(1, 4, 9, 16, 25)\n"
          ]
        }
      ]
    },
    {
      "cell_type": "code",
      "source": [
        "\n",
        "#merge two tuples and sort\n",
        "\n",
        "t=tuple(map(int,input().split()))\n",
        "t1=tuple(map(int,input().split()))\n",
        "s=t+t1\n",
        "print(tuple(sorted(s)))"
      ],
      "metadata": {
        "colab": {
          "base_uri": "https://localhost:8080/"
        },
        "id": "hKkmW1SkPdPD",
        "outputId": "f95463cf-3abd-4cc2-f159-64770302449c"
      },
      "execution_count": 19,
      "outputs": [
        {
          "output_type": "stream",
          "name": "stdout",
          "text": [
            "1 3 4 2 5\n",
            "6 7 3 5 7 9\n",
            "(1, 2, 3, 3, 4, 5, 5, 6, 7, 7, 9)\n"
          ]
        }
      ]
    }
  ]
}