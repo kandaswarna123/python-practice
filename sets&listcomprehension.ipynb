{
  "nbformat": 4,
  "nbformat_minor": 0,
  "metadata": {
    "colab": {
      "provenance": [],
      "authorship_tag": "ABX9TyNi1W8wpJpIhz7+3HLeiQkS",
      "include_colab_link": true
    },
    "kernelspec": {
      "name": "python3",
      "display_name": "Python 3"
    },
    "language_info": {
      "name": "python"
    }
  },
  "cells": [
    {
      "cell_type": "markdown",
      "metadata": {
        "id": "view-in-github",
        "colab_type": "text"
      },
      "source": [
        "<a href=\"https://colab.research.google.com/github/kandaswarna123/python-practice/blob/main/sets%26listcomprehension.ipynb\" target=\"_parent\"><img src=\"https://colab.research.google.com/assets/colab-badge.svg\" alt=\"Open In Colab\"/></a>"
      ]
    },
    {
      "cell_type": "markdown",
      "source": [
        "\n",
        "a set is a unordered collection of unique elements  it is unordered {}\n",
        "\n",
        "\n",
        "\n",
        "\n"
      ],
      "metadata": {
        "id": "GepnvWA6aGEA"
      }
    },
    {
      "cell_type": "code",
      "source": [
        "#adding/removing\n",
        "s={1,2,4,3,5,6}\n",
        "s.add(5)\n",
        "print(s)\n",
        "\n",
        "\n",
        "s.remove(6)\n",
        "print(s)\n",
        "\n",
        "s.pop()#removing an arbitary function\n",
        "print(s)\n",
        "\n",
        "s.clear()\n",
        "print(s)"
      ],
      "metadata": {
        "colab": {
          "base_uri": "https://localhost:8080/"
        },
        "id": "hE8V-WfSadQD",
        "outputId": "d873b0c9-3b93-451d-ce87-a356a1156c86"
      },
      "execution_count": 33,
      "outputs": [
        {
          "output_type": "stream",
          "name": "stdout",
          "text": [
            "{1, 2, 3, 4, 5, 6}\n",
            "{1, 2, 3, 4, 5}\n",
            "{2, 3, 4, 5}\n",
            "set()\n"
          ]
        }
      ]
    },
    {
      "cell_type": "code",
      "source": [
        "#conversion\n",
        "list_to_set=set([1,2,3,4,5])\n",
        "print(list_to_set)\n",
        "\n",
        "tuple_to_set=set((1,2,3,4,5))\n",
        "print(tuple_to_set)"
      ],
      "metadata": {
        "colab": {
          "base_uri": "https://localhost:8080/"
        },
        "id": "SKM_aMCNbg_e",
        "outputId": "279300b3-b90a-4cd3-8156-1cb8d73a962c"
      },
      "execution_count": 34,
      "outputs": [
        {
          "output_type": "stream",
          "name": "stdout",
          "text": [
            "{1, 2, 3, 4, 5}\n",
            "{1, 2, 3, 4, 5}\n"
          ]
        }
      ]
    },
    {
      "cell_type": "code",
      "source": [
        "#squares set comprehension\n",
        "\n",
        "squares = {x**2 for x in range(10)}\n",
        "print(squares)"
      ],
      "metadata": {
        "colab": {
          "base_uri": "https://localhost:8080/"
        },
        "id": "3x-75MNsmN0J",
        "outputId": "28609b80-36b2-41ad-ca1e-6c83f3aa9b16"
      },
      "execution_count": 37,
      "outputs": [
        {
          "output_type": "stream",
          "name": "stdout",
          "text": [
            "{0, 1, 64, 4, 36, 9, 16, 49, 81, 25}\n"
          ]
        }
      ]
    },
    {
      "cell_type": "markdown",
      "source": [
        "list comprehension is a concise way to create list using a single line of code\n",
        "it replaces traditional loops and append()method\n",
        "\n",
        "\n",
        "**syntax**\n",
        "[expression for item in iterable if condition]\n"
      ],
      "metadata": {
        "id": "73aduspuShLV"
      }
    },
    {
      "cell_type": "code",
      "execution_count": 17,
      "metadata": {
        "colab": {
          "base_uri": "https://localhost:8080/"
        },
        "id": "B9uhOr3hScRJ",
        "outputId": "0492fd61-28b2-40ae-ad3b-af8a5c871fb8"
      },
      "outputs": [
        {
          "output_type": "stream",
          "name": "stdout",
          "text": [
            "[0, 1, 4, 9, 16, 25, 36, 49, 64, 81]\n",
            "enter a value:5\n",
            "[0, 1, 4, 9, 16]\n",
            "5\n",
            "[1, 4, 9, 16]\n",
            "1 2 3 4 5\n",
            "[1, 4, 9, 16, 25]\n"
          ]
        }
      ],
      "source": [
        "#squares\n",
        "squares = [x**2 for x in range(10)]\n",
        "print(squares)\n",
        "\n",
        "\n",
        "# #squares by user\n",
        "n=int(input(\"enter a value:\"))\n",
        "squares = []\n",
        "for x in range(n):\n",
        "  squares.append(x**2)\n",
        "print(squares)\n",
        "\n",
        "\n",
        "#squares by user using list comprehension\n",
        "n=int(input())\n",
        "squares = [x**2 for x in range (1,n)]\n",
        "print(squares)\n",
        "\n",
        "#another method\n",
        "n=list(map(int,input().split()))\n",
        "squares = [x**2 for x in (n)]\n",
        "print(squares)\n"
      ]
    },
    {
      "cell_type": "code",
      "source": [
        "#print even numbers only using list comprehension\n",
        "n=int(input())\n",
        "even = [x for x in range(1,n+1) if x%2==0]\n",
        "print(*even)\n",
        "\n",
        "#another\n",
        "n=list(map(int,input().split()))\n",
        "even = [x for x in n if x%2==0]\n",
        "print(*even)\n",
        "\n",
        "#default\n",
        "even = [x for x in range(10) if x%2==0]\n",
        "print(*even)\n",
        "\n"
      ],
      "metadata": {
        "colab": {
          "base_uri": "https://localhost:8080/"
        },
        "id": "RnpEE4FMV6c6",
        "outputId": "5f866c3d-00b2-48dc-b899-5a109d0db5da"
      },
      "execution_count": 20,
      "outputs": [
        {
          "output_type": "stream",
          "name": "stdout",
          "text": [
            "10\n",
            "2 4 6 8 10\n",
            "1 2 3 4 4 5 6 7  8\n",
            "2 4 4 6 8\n",
            "0 2 4 6 8\n"
          ]
        }
      ]
    },
    {
      "cell_type": "code",
      "source": [
        "#print even odd using list comprehension\n",
        "even_odd=[x if x%2==0 else \"odd\" for x in range(10)]\n",
        "print(even_odd)\n",
        "\n",
        "\n",
        "n=list(map(int,input().split()))\n",
        "even_odd=[x if x%2==0 else \"odd\" for x in n]\n",
        "print(even_odd)"
      ],
      "metadata": {
        "colab": {
          "base_uri": "https://localhost:8080/"
        },
        "id": "haP89GsvWJBC",
        "outputId": "b980c8ee-bebb-469f-f183-dd1d78a249ce"
      },
      "execution_count": 27,
      "outputs": [
        {
          "output_type": "stream",
          "name": "stdout",
          "text": [
            "[0, 'odd', 2, 'odd', 4, 'odd', 6, 'odd', 8, 'odd']\n",
            "1 2 3 4 5 6 7 8 9 \n",
            "['odd', 2, 'odd', 4, 'odd', 6, 'odd', 8, 'odd']\n"
          ]
        }
      ]
    },
    {
      "cell_type": "code",
      "source": [
        "lst=[x for x in range(10)]\n",
        "print(lst)"
      ],
      "metadata": {
        "colab": {
          "base_uri": "https://localhost:8080/"
        },
        "id": "79fOiJVocNmQ",
        "outputId": "02eb979e-8883-4200-f860-cf1e88f7f8f9"
      },
      "execution_count": 35,
      "outputs": [
        {
          "output_type": "stream",
          "name": "stdout",
          "text": [
            "[0, 1, 2, 3, 4, 5, 6, 7, 8, 9]\n"
          ]
        }
      ]
    }
  ]
}